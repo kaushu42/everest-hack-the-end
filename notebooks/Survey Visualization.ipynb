{
 "cells": [
  {
   "cell_type": "code",
   "execution_count": 11,
   "metadata": {},
   "outputs": [
    {
     "data": {
      "text/html": [
       "        <script type=\"text/javascript\">\n",
       "        window.PlotlyConfig = {MathJaxConfig: 'local'};\n",
       "        if (window.MathJax) {MathJax.Hub.Config({SVG: {font: \"STIX-Web\"}});}\n",
       "        if (typeof require !== 'undefined') {\n",
       "        require.undef(\"plotly\");\n",
       "        requirejs.config({\n",
       "            paths: {\n",
       "                'plotly': ['https://cdn.plot.ly/plotly-latest.min']\n",
       "            }\n",
       "        });\n",
       "        require(['plotly'], function(Plotly) {\n",
       "            window._Plotly = Plotly;\n",
       "        });\n",
       "        }\n",
       "        </script>\n",
       "        "
      ]
     },
     "metadata": {},
     "output_type": "display_data"
    }
   ],
   "source": [
    "import numpy as np\n",
    "import pandas as pd\n",
    "import os\n",
    "from tqdm import tqdm_notebook as tqdm\n",
    "from plotly.offline import init_notebook_mode, iplot\n",
    "from plotly.graph_objs import *\n",
    "import plotly.offline as py\n",
    "import plotly.graph_objs as go\n",
    "\n",
    "init_notebook_mode(connected=True)   "
   ]
  },
  {
   "cell_type": "markdown",
   "metadata": {},
   "source": [
    "### loading pre-configure dataset"
   ]
  },
  {
   "cell_type": "code",
   "execution_count": 22,
   "metadata": {},
   "outputs": [],
   "source": [
    "df = pd.read_csv(\"kaushal.csv\")"
   ]
  },
  {
   "cell_type": "code",
   "execution_count": 24,
   "metadata": {},
   "outputs": [
    {
     "data": {
      "text/plain": [
       "['id',\n",
       " 'Name of Municipalities?',\n",
       " 'Ward No',\n",
       " 'Address',\n",
       " 'Type of Health facility',\n",
       " 'Name of Health Facility',\n",
       " 'Under which health facility does this PHC/ORC/EPI clinic operate?',\n",
       " 'He/she is health facility in-charge or not?',\n",
       " 'Designation of respondent',\n",
       " 'Does this health facility have its own building?',\n",
       " 'If not, where does the health facility currently operating?',\n",
       " 'Main way to enter building through compound',\n",
       " 'Ceiling needs repair?',\n",
       " 'Walls need repair?',\n",
       " 'Window needs repair?',\n",
       " 'Doors need repair?',\n",
       " 'Roof need repair?',\n",
       " 'Number of rooms available in the health facilities? Number',\n",
       " 'Do the health facility manage the accommodation facility for staff when needed?',\n",
       " 'Do the health facility have waiting space for the in-patience, who have visited for (OPD) service?',\n",
       " 'Is separate/ private space for ANC/PNC checkup available? अलग ANC र PNC जाँचको लागि र निजी स्थान उपलब्ध छरु',\n",
       " 'How many bed are available in this hospital?',\n",
       " 'Is this health facility CEONC, BEONC or Birthing center?',\n",
       " 'Does this HF have 24 hours delivery service?',\n",
       " 'Does this health facility manage the accommodation facility for staff nurse/ANM?',\n",
       " 'Does this health facility have availability of waiting place for the maternal health service?',\n",
       " 'Does this heath facility have a separate toilet in the labour room for the delivering women?',\n",
       " 'Does this HF have implemented Ama surakchya Karyakram ?',\n",
       " 'OPD service avaliable?',\n",
       " 'How many days, OPD service is provided?',\n",
       " 'Preventive, promotive, community mobilization, health education and peer education Service Avaliable?',\n",
       " ' How many days, Preventive, promotive, community mobilization, health education and peer education service is provided?',\n",
       " 'Immunization Service Avaliable',\n",
       " 'How many days, immunization service is provided?',\n",
       " 'Deworming Service Avaliable ?',\n",
       " 'How many days, deworming service is provided?',\n",
       " 'CB-IMNCI Service Avaliable?',\n",
       " 'How many days, CB-IMNCI service is provided?',\n",
       " 'CB-IMCI Service Avaliable',\n",
       " 'How many days, CB-IMCI service is provided?',\n",
       " 'CB-NCP Service Avaliable',\n",
       " 'How many days, CB-NCP service is provided?',\n",
       " 'Antenatal services Service Avaliable',\n",
       " 'q301a8b How many days, this service is provided?',\n",
       " 'Delivery services (BC/BEONC) Service Avaliable',\n",
       " 'q301a9b How many days, this service is provided?',\n",
       " 'Postnatal service Service Avaliable',\n",
       " 'q301a10b How many days, this service is provided?',\n",
       " 'q301a11 Service Avaliable',\n",
       " 'q301a11b How many days, this service is provided?',\n",
       " 'Oral pills for family planning Service Avaliable',\n",
       " 'q301a12b How many days, this service is provided?',\n",
       " 'Injectable contraceptive Service Avaliable',\n",
       " 'q301a13b How many days, this service is provided?',\n",
       " 'IUCD Service Avaliable',\n",
       " 'q301a14b How many days, this service is provided?',\n",
       " 'Implant Service Avaliable',\n",
       " 'q301a15b How many days, this service is provided?',\n",
       " 'Male sterilization Service Avaliable',\n",
       " 'q301a16b How many days, this service is provided?',\n",
       " 'Female sterilization Service Avaliable',\n",
       " 'q301a17b How many days, this service is provided?',\n",
       " 'Laboraotry Service Avaliable',\n",
       " 'q301a18b How many days, this service is provided?',\n",
       " 'HIV/STI testing and treatment Service Avaliable',\n",
       " 'q301b0b How many days, this service is provided?',\n",
       " 'q301b1 Service Avaliable',\n",
       " 'q301b1b How many days, this service is provided?',\n",
       " 'q301b2 Service Avaliable',\n",
       " 'q301b2b How many days, this service is provided?',\n",
       " 'Simple abscess drainage Service Avaliable',\n",
       " 'q301b3b How many days, this service is provided?',\n",
       " 'q301b4 Service Avaliable',\n",
       " 'q301b4b How many days, this service is provided?',\n",
       " 'Foreign body removal (non- complicated) Service Avaliable',\n",
       " 'q301b5b How many days, this service is provided?',\n",
       " 'Acute exacerbation of COPD and asthma emergency management Service Avaliable',\n",
       " 'q301b6b How many days, this service is provided?',\n",
       " 'PMTCT Service Avaliable',\n",
       " 'q301b7b How many days, this service is provided?',\n",
       " 'Nutrition Service Avaliable',\n",
       " 'q301b8b How many days, this service is provided?',\n",
       " 'NCD Service Avaliable',\n",
       " 'q301b9b How many days, this service is provided?',\n",
       " 'ASRH (Adolescent Friendly Services) Service Avaliable',\n",
       " 'q301b10b How many days, this service is provided?',\n",
       " 'Mental health Service Avaliable',\n",
       " 'q301b11b How many days, this service is provided?',\n",
       " 'Substance abuse Service Avaliable',\n",
       " 'q301b12b How many days, this service is provided?',\n",
       " 'Oral Health Service Avaliable',\n",
       " 'q301b13b How many days, this service is provided?',\n",
       " 'Ear, Nose, Throat hygiene and sanitation Service Avaliable',\n",
       " 'q301b14b How many days, this service is provided?',\n",
       " 'Legal and GBV counseling Service Avaliable',\n",
       " 'q301b15b How many days, this service is provided?',\n",
       " 'HIV and STI counseling and ART Service Avaliable',\n",
       " 'q301b16b How many days, this service is provided?',\n",
       " 'Micro-nutrients supplementation (iron, folic acid, zinc, vitaminA, iodine) Service Avaliable',\n",
       " 'q301b17b How many days, this service is provided?',\n",
       " 'Post abortion care (CAC/PAC) Service Avaliable',\n",
       " 'q301b18b How many days, this service is provided?',\n",
       " 'Screening for visual and hearing impairment Service Avaliable',\n",
       " 'q301b19b How many days, this service is provided?',\n",
       " 'Screening for hypertension Service Avaliable',\n",
       " 'q301b20b How many days, this service is provided?',\n",
       " 'Growth monitoring Service Avaliable',\n",
       " 'q301b21b How many days, this service is provided?',\n",
       " 'Screening for pelvic organ prolapses, obstetric fistula, cervical cancer Service Avaliable',\n",
       " 'q301b22b How many days, this service is provided?',\n",
       " 'Diabetes Screening Service Avaliable',\n",
       " 'q301b23b How many days, this service is provided?',\n",
       " 'BMI (Body Mass Index) Service Avaliable',\n",
       " 'q301b24b How many days, this service is provided?',\n",
       " 'Emergency and Trauma Care Services Service Avaliable',\n",
       " 'q301c1b How many days, this service is provided?',\n",
       " 'Surgery Care (Emergency and C-section) Service Avaliable',\n",
       " 'q301c2b How many days, this service is provided?',\n",
       " 'Blood bank/ blood transfusion services Avaliable',\n",
       " 'q301c3b How many days, this service is provided?',\n",
       " 'ICU/ NICU services Avaliable',\n",
       " 'q301c4b How many days, this service is provided?',\n",
       " 'Inpatient Services Avaliable',\n",
       " 'q301c5b How many days, this service is provided?',\n",
       " 'Abortion Services (CAC/PAC) Avaliable',\n",
       " 'q301c6b How many days, this service is provided?',\n",
       " 'Case management of diarrhea and pneumonia (for <5 years) Service Avaliable',\n",
       " 'q301c7b How many days, this service is provided?',\n",
       " 'Continuity of HIV treatment Service Avaliable',\n",
       " 'q301c8b How many days, this service is provided?',\n",
       " 'Continuity of TB treatment Service Avaliable',\n",
       " 'q301c9b How many days, this service is provided?',\n",
       " 'Communicable Diseases (Sexual Health, malaria, etc.) Service Avaliable',\n",
       " 'q301c10b How many days, this service is provided?',\n",
       " 'Physiotherapy Service Avaliable',\n",
       " 'q301c11b How many days, this service is provided?',\n",
       " 'Surveillance System Service Avaliable',\n",
       " 'q301c12b How many days, this service is provided?',\n",
       " 'Response Readiness Service Avaliable',\n",
       " 'q301c13b How many days, this service is provided?',\n",
       " 'Nutrition for mothers and children <5 years Service Avaliable',\n",
       " 'q301c14b How many days, this service is provided?',\n",
       " 'Outpatient Services Service Avaliable',\n",
       " 'q301c15b How many days, this service is provided?',\n",
       " 'Mobile Clinic Services based on IDP Service Avaliable',\n",
       " 'q301c16b How many days, this service is provided?',\n",
       " 'Rehabilitation Services Service Avaliable',\n",
       " 'q301c17b How many days, this service is provided?',\n",
       " 'WASH monitoring Service Avaliable',\n",
       " 'q301c18b How many days, this service is provided?',\n",
       " 'Status of distribution of Reproductive Health Kit (RH Kit) & Sanitary Kit Service Avaliable',\n",
       " 'q301c19b How many days, this service is provided?',\n",
       " 'Psychosocial Counseling Service Avaliable',\n",
       " 'q301c20b How many days, this service is provided?',\n",
       " 'Mental health Service Avaliable.1',\n",
       " 'q301c21b How many days, this service is provided?',\n",
       " 'One-Stop Crisis Management Center (OCMC) Service Avaliable',\n",
       " 'q301c22b How many days, this service is provided?',\n",
       " 'Emergency Lab services Avaliable',\n",
       " 'q301c23b How many days, this service is provided?',\n",
       " 'SBA/ASBA training center Service Avaliable',\n",
       " 'q301c24b How many days, this service is provided?',\n",
       " 'Cardiology services Avaliable',\n",
       " 'q301c25b How many days, this service is provided?',\n",
       " 'CT scan Service Avaliable',\n",
       " 'q301c26b How many days, this service is provided?',\n",
       " 'X-ray service Service Avaliable',\n",
       " 'q301c27b How many days, this service is provided?',\n",
       " 'ECG/ USG Service Avaliable',\n",
       " 'q301c28b How many days, this service is provided?',\n",
       " 'q401a) Medical superintendent',\n",
       " 'Sanctioned Post',\n",
       " 'Filled Post',\n",
       " 'Available on the day of visit',\n",
       " 'Deputed staff (In)',\n",
       " 'Deputed staff (Out)',\n",
       " 'HFOMC/ HDC',\n",
       " 'MoHP',\n",
       " 'MUNICIPALITY',\n",
       " 'NPC',\n",
       " 'Consultant',\n",
       " 'Sanctioned Post.1',\n",
       " 'Filled Post.1',\n",
       " 'Available on the day of visit.1',\n",
       " 'Deputed staff (In).1',\n",
       " 'Deputed staff (Out).1',\n",
       " 'HFOMC/ HDC.1',\n",
       " 'MoHP.1',\n",
       " 'MUNICIPALITY.1',\n",
       " 'NPC.1',\n",
       " 'Medical officers',\n",
       " 'Sanctioned Post.2',\n",
       " 'Filled Post.2',\n",
       " 'Available on the day of visit.2',\n",
       " 'Deputed staff (In).2',\n",
       " 'Deputed staff (Out).2',\n",
       " 'HFOMC/ HDC.2',\n",
       " 'MoHP.2',\n",
       " 'MUNICIPALITY.2',\n",
       " 'NPC.2',\n",
       " 'Staff Nurse',\n",
       " 'Sanctioned Post.3',\n",
       " 'Filled Post.3',\n",
       " 'Available on the day of visit.3',\n",
       " 'Deputed staff (In).3',\n",
       " 'Deputed staff (Out).3',\n",
       " 'HFOMC/ HDC.3',\n",
       " 'MoHP.3',\n",
       " 'MUNICIPALITY.3',\n",
       " 'NPC.3',\n",
       " 'ANM/Sr. ANM',\n",
       " 'Sanctioned Post.4',\n",
       " 'Filled Post.4',\n",
       " 'Available on the day of visit.4',\n",
       " 'Deputed staff (In).4',\n",
       " 'Deputed staff (Out).4',\n",
       " 'HFOMC/ HDC.4',\n",
       " 'MoHP.4',\n",
       " 'MUNICIPALITY.4',\n",
       " 'NPC.4',\n",
       " 'HA/Sr. AHW',\n",
       " 'Sanctioned Post.5',\n",
       " 'Filled Post.5',\n",
       " 'Available on the day of visit.5',\n",
       " 'Deputed staff (In).5',\n",
       " 'Deputed staff (Out).5',\n",
       " 'HFOMC/ HDC.5',\n",
       " 'MoHP.5',\n",
       " 'MUNICIPALITY.5',\n",
       " 'NPC.5',\n",
       " 'AHW',\n",
       " 'Sanctioned Post.6',\n",
       " 'Filled Post.6',\n",
       " 'Available on the day of visit.6',\n",
       " 'Deputed staff (In).6',\n",
       " 'Deputed staff (Out).6',\n",
       " 'HFOMC/ HDC.6',\n",
       " 'MoHP.6',\n",
       " 'MUNICIPALITY.6',\n",
       " 'NPC.6',\n",
       " 'Lab technician',\n",
       " 'Sanctioned Post.7',\n",
       " 'Filled Post.7',\n",
       " 'Available on the day of visit.7',\n",
       " 'Deputed staff (In).7',\n",
       " 'Deputed staff (Out).7',\n",
       " 'HFOMC/ HDC.7',\n",
       " 'MoHP.7',\n",
       " 'MUNICIPALITY.7',\n",
       " 'NPC.7',\n",
       " 'Lab Assistant',\n",
       " 'Sanctioned Post.8',\n",
       " 'Filled Post.8',\n",
       " 'Available on the day of visit.8',\n",
       " 'Deputed staff (In).8',\n",
       " 'Deputed staff (Out).8',\n",
       " 'HFOMC/ HDC.8',\n",
       " 'MoHP.8',\n",
       " 'MUNICIPALITY.8',\n",
       " 'NPC.8',\n",
       " 'Admin officer',\n",
       " 'Sanctioned Post.9',\n",
       " 'Filled Post.9',\n",
       " 'Available on the day of visit.9',\n",
       " 'Deputed staff (In).9',\n",
       " 'Deputed staff (Out).9',\n",
       " 'HFOMC/ HDC.9',\n",
       " 'MoHP.9',\n",
       " 'MUNICIPALITY.9',\n",
       " 'NPC.9',\n",
       " 'Admin Assistant',\n",
       " 'Sanctioned Post.10',\n",
       " 'Filled Post.10',\n",
       " 'Available on the day of visit.10',\n",
       " 'Deputed staff (In).10',\n",
       " 'Deputed staff (Out).10',\n",
       " 'HFOMC/ HDC.10',\n",
       " 'MoHP.10',\n",
       " 'MUNICIPALITY.10',\n",
       " 'NPC.10',\n",
       " 'Dark room assistant',\n",
       " 'Sanctioned Post.11',\n",
       " 'Filled Post.11',\n",
       " 'Available on the day of visit.11',\n",
       " 'Deputed staff (In).11',\n",
       " 'Deputed staff (Out).11',\n",
       " 'HFOMC/ HDC.11',\n",
       " 'MoHP.11',\n",
       " 'MUNICIPALITY.11',\n",
       " 'NPC.11',\n",
       " 'Assistant radiographer',\n",
       " 'Sanctioned Post.12',\n",
       " 'Filled Post.12',\n",
       " 'Available on the day of visit.12',\n",
       " 'Deputed staff (In).12',\n",
       " 'Deputed staff (Out).12',\n",
       " 'HFOMC/ HDC.12',\n",
       " 'MoHP.12',\n",
       " 'MUNICIPALITY.12',\n",
       " 'NPC.12',\n",
       " 'Pharmacy assistant',\n",
       " 'Sanctioned Post.13',\n",
       " 'Filled Post.13',\n",
       " 'Available on the day of visit.13',\n",
       " 'Deputed staff (In).13',\n",
       " 'Deputed staff (Out).13',\n",
       " 'HFOMC/ HDC.13',\n",
       " 'MoHP.13',\n",
       " 'MUNICIPALITY.13',\n",
       " 'NPC.13',\n",
       " 'Anesthesia assistant',\n",
       " 'Sanctioned Post.14',\n",
       " 'Filled Post.14',\n",
       " 'Available on the day of visit.14',\n",
       " 'Deputed staff (In).14',\n",
       " 'Deputed staff (Out).14',\n",
       " 'HFOMC/ HDC.14',\n",
       " 'MoHP.14',\n",
       " 'MUNICIPALITY.14',\n",
       " 'NPC.14',\n",
       " 'Medical recorder',\n",
       " 'Sanctioned Post.15',\n",
       " 'Filled Post.15',\n",
       " 'Available on the day of visit.15',\n",
       " 'Deputed staff (In).15',\n",
       " 'Deputed staff (Out).15',\n",
       " 'HFOMC/ HDC.15',\n",
       " 'MoHP.15',\n",
       " 'MUNICIPALITY.15',\n",
       " 'NPC.15',\n",
       " 'Driver',\n",
       " 'Sanctioned Post.16',\n",
       " 'Filled Post.16',\n",
       " 'Available on the day of visit.16',\n",
       " 'Deputed staff (In).16',\n",
       " 'Deputed staff (Out).16',\n",
       " 'HFOMC/ HDC.16',\n",
       " 'MoHP.16',\n",
       " 'MUNICIPALITY.16',\n",
       " 'NPC.16',\n",
       " 'Office assistant',\n",
       " 'Sanctioned Post.17',\n",
       " 'Filled Post.17',\n",
       " 'Available on the day of visit.17',\n",
       " 'Deputed staff (In).17',\n",
       " 'Deputed staff (Out).17',\n",
       " 'HFOMC/ HDC.17',\n",
       " 'MoHP.17',\n",
       " 'MUNICIPALITY.17',\n",
       " 'NPC.17',\n",
       " 'Other staff',\n",
       " 'Sanctioned Post.18',\n",
       " 'Filled Post.18',\n",
       " 'Available on the day of visit.18',\n",
       " 'Deputed staff (In).18',\n",
       " 'Deputed staff (Out).18',\n",
       " 'HFOMC/ HDC.18',\n",
       " 'MoHP.18',\n",
       " 'MUNICIPALITY.18',\n",
       " 'NPC.18',\n",
       " 'Other staff.1',\n",
       " 'Sanctioned Post.19',\n",
       " 'Filled Post.19',\n",
       " 'Available on the day of visit.19',\n",
       " 'Deputed staff (In).19',\n",
       " 'Deputed staff (Out).19',\n",
       " 'HFOMC/ HDC.19',\n",
       " 'MoHP.19',\n",
       " 'MUNICIPALITY.19',\n",
       " 'NPC.19',\n",
       " 'Other staff.2',\n",
       " 'Sanctioned Post.20',\n",
       " 'Filled Post.20',\n",
       " 'Available on the day of visit.20',\n",
       " 'Deputed staff (In).20',\n",
       " 'Deputed staff (Out).20',\n",
       " 'HFOMC/ HDC.20',\n",
       " 'MoHP.20',\n",
       " 'MUNICIPALITY.20',\n",
       " 'NPC.20',\n",
       " 'Other staff.3',\n",
       " 'Sanctioned Post.21',\n",
       " 'Filled Post.21',\n",
       " 'Available on the day of visit.21',\n",
       " 'Deputed staff (In).21',\n",
       " 'Deputed staff (Out).21',\n",
       " 'HFOMC/ HDC.21',\n",
       " 'MoHP.21',\n",
       " 'MUNICIPALITY.21',\n",
       " 'NPC.21',\n",
       " 'Do you have standard treatment schedule/guidelines fo Neonatal Sepsis',\n",
       " 'Do you have standard treatment schedule/guidelines fo Neonatal Asphyxia',\n",
       " 'Do you have standard treatment schedule/guidelines fo Neonatal hypothermia',\n",
       " 'Do you have standard treatment schedule/guidelines fo Active Management of third stage of labor',\n",
       " 'Do you have standard treatment schedule/guidelines fo Active Management of Third stage of Labor including use and timing of synthetic oxytocin',\n",
       " 'How many PHC/ORC clinics do you have?',\n",
       " 'How many PHC/ORC clinics are regularly functioning?',\n",
       " 'How many EPI clinics do you have?',\n",
       " 'How many EPI clinics are regularly functioning?',\n",
       " 'Do you have regular supply of vaccines from the district health office?',\n",
       " 'Do you have any plan on what and when to provide different health services?',\n",
       " 'Nutrition related guideline (e.g. Infant Young Child Feeding) available?',\n",
       " 'CB NCP guideline available?',\n",
       " 'CB IMCI guideline available?',\n",
       " 'CB IMNCI guideline available?',\n",
       " 'Family Planning guidelines available?',\n",
       " 'Management (HFOMC) related guideline available?',\n",
       " 'Misoprostal guideline available?',\n",
       " 'Newborn Incentive guideline available?',\n",
       " 'BPP guideline ( Flip Chart) available?',\n",
       " 'AamaSurakshya guideline available?',\n",
       " 'HIV/AIDS (ACT/ART) guideline available?',\n",
       " 'Others (Please specify)',\n",
       " 'Unnamed: 413',\n",
       " 'Unnamed: 414',\n",
       " 'Unnamed: 415',\n",
       " 'Unnamed: 416',\n",
       " 'Unnamed: 417',\n",
       " 'Unnamed: 418',\n",
       " 'Unnamed: 419',\n",
       " 'Unnamed: 420',\n",
       " 'Unnamed: 421',\n",
       " 'Unnamed: 422',\n",
       " 'Unnamed: 423',\n",
       " 'Unnamed: 424',\n",
       " 'Unnamed: 425',\n",
       " 'Child health ( including CDD/ARI, IMCI etc) IEC materials available?',\n",
       " 'Maternal health ( ANC, NC, PNC)  IEC materials available?',\n",
       " 'Neonatal Health  IEC materials available?',\n",
       " 'Family Planning IEC materials available?',\n",
       " 'Adolescent health and development including ASRH IEC materials available?',\n",
       " 'Nutrition IEC materials available?',\n",
       " 'NCD IEC materials available?',\n",
       " 'WASH IEC materials available?',\n",
       " 'HIV/AIDS IEC materials available?',\n",
       " 'Others (Please specify).1',\n",
       " 'Unnamed: 436',\n",
       " 'Unnamed: 437',\n",
       " 'Unnamed: 438',\n",
       " 'Unnamed: 439',\n",
       " 'Unnamed: 440',\n",
       " 'Unnamed: 441',\n",
       " 'Unnamed: 442',\n",
       " 'Unnamed: 443',\n",
       " 'Unnamed: 444',\n",
       " 'Unnamed: 445',\n",
       " 'Unnamed: 446',\n",
       " 'Unnamed: 447',\n",
       " 'Unnamed: 448',\n",
       " 'Unnamed: 449',\n",
       " 'Unnamed: 450',\n",
       " 'Does the HF have regular power supply (grid or solar)?',\n",
       " 'Alternate power backup system (generator/inverter)',\n",
       " 'Does the HF have running water (tube well, piped, bucket with tap) inside the building?',\n",
       " 'Room/corner with Auditory privacy for patient consultations?',\n",
       " 'Room/corner with Visual privacy for patient consultations?',\n",
       " 'Isolation rooms',\n",
       " 'Does the HF have any Computer/ Laptop ?',\n",
       " 'Does this HF have Telemedicine service?',\n",
       " 'Emergency contact numbers list/ helpline desk',\n",
       " 'Stretcher?',\n",
       " 'Bicycle ambulance/E-rickshaw ambulance?',\n",
       " 'Motor Ambulance',\n",
       " 'Does the HF have a toilet for clients?',\n",
       " 'If yes, does this HF have separate toilets for male and female clients?',\n",
       " 'Does this HF have internet service?',\n",
       " 'If yes, what type of internet is available at the health facility?',\n",
       " 'What is the bandwidth of the connection (in kbps)?',\n",
       " 'Adult Weight machine (Bathroom scale)',\n",
       " 'Salter scale (baby weighing machine)',\n",
       " 'Pan scale (infant weighing machine)',\n",
       " 'Mercury Thermometer',\n",
       " 'Digital Thermometer',\n",
       " 'Stethoscope',\n",
       " 'BP instrument (either digital BP machine or manual sphygmomanometer with stethoscope)',\n",
       " 'Light source (for patient examination)',\n",
       " 'Fetoscope',\n",
       " 'Measuring tape (for height measurement)',\n",
       " 'ARI Timer',\n",
       " 'De Lee Suction/Suction Machine',\n",
       " 'Newborn bag and mask',\n",
       " 'Adult bag and mask',\n",
       " 'ORT corner set (Glass, plastic jug, spoon, ORS packet, bucket)',\n",
       " 'Vaginal Speculum',\n",
       " 'Labour table',\n",
       " 'Safe delivery kit/Delivery kit',\n",
       " 'Partograph',\n",
       " 'Refrigerator',\n",
       " 'Ambulance',\n",
       " 'X- ray- 200 MA',\n",
       " 'X- ray- 300 MA',\n",
       " 'USG',\n",
       " 'ECG',\n",
       " 'Microscope',\n",
       " 'Centrifuge',\n",
       " 'CD4 Count machine',\n",
       " 'Delivery bed',\n",
       " 'Step ladder',\n",
       " 'Surgical Tools',\n",
       " 'Foot Suction',\n",
       " 'Nebulizer',\n",
       " 'Autoclave – Non electrical',\n",
       " 'Autoclave- electrical',\n",
       " 'OT table',\n",
       " 'OT light- Portable',\n",
       " 'OT light fixed',\n",
       " 'Examination light',\n",
       " 'Delivery set',\n",
       " 'Perineal/vaginal/cervical repair set',\n",
       " 'Instruments for Episiotomy (scissor, thread, L.A)',\n",
       " 'Oxygen cylinder',\n",
       " 'Flow meter (for oxygen cylinder)',\n",
       " 'Oxygen concentrator',\n",
       " 'Incubator',\n",
       " 'Incubator – baby',\n",
       " 'Phototherapy machine',\n",
       " 'Examination table',\n",
       " 'Electric suction pump',\n",
       " 'Resuscitator set',\n",
       " 'Refrigerator- cold chain',\n",
       " 'Laryngoscope',\n",
       " 'Anesthesia machine- with ventilator',\n",
       " 'Anesthesia machine- General',\n",
       " 'MVA set',\n",
       " 'Unnamed: 524',\n",
       " 'Unnamed: 525',\n",
       " 'Unnamed: 526',\n",
       " 'Sterilization equipment (either a dry heat sterilizer or an autoclave with energy source)',\n",
       " 'Safe final disposal of sharps (either incineration, open burning in protected area, dump without burning in protected area or remove offsite with protected storage).',\n",
       " 'Safe final disposal of infectious wastes',\n",
       " 'Appropriate storage of infectious wastes (pedal bin with lid and plastic bin liner)',\n",
       " 'Disinfectant (Chlorine)',\n",
       " 'Single use – standard disposable or auto-disposable syringes',\n",
       " 'Waste segregation and proper management (plastic waste, composting etc.) (color containers)',\n",
       " 'Puncture proof bin for disposing needles/sharps',\n",
       " 'Bin for disposing infectious (blood, tissue, fluid stained, etc.) items (red bucket)',\n",
       " 'Bins for disposing non-infectious items? (blue bucket)',\n",
       " 'Bins for organic waste (waste food, vegetables, etc.) (green bucket)',\n",
       " 'Placenta pit (standard) (for birthing centers only)',\n",
       " 'Soap and running water or alcohol based hand rub disinfectant',\n",
       " 'Latex gloves',\n",
       " 'Gowns',\n",
       " 'Medical masks',\n",
       " 'Eye protection (goggles, face protection)',\n",
       " 'Appropriate protection against radiations in X-RAY room',\n",
       " 'Guidelines for Standard Precautions of waste management and infection prevention',\n",
       " 'Guideline for Health Care Waste Management in practice',\n",
       " 'Hemoglobin test by colorimeter, hemoglobinometer or hemocue.',\n",
       " 'Whole blood glucose by glucometer.',\n",
       " 'TB microscopy (by Acid Fast Test light microscopy).',\n",
       " 'General microscopy (e.g. wet mounts).',\n",
       " 'Urine pregnancy test.',\n",
       " 'Urine dipstick-protein.',\n",
       " 'Urine dipstick-glucose',\n",
       " 'Malaria diagnostic test',\n",
       " 'HIV diagnostic test',\n",
       " 'DBS collection (Dry Blood Spot)',\n",
       " 'Syphilis rapid test',\n",
       " 'ALT and Creatinine test',\n",
       " 'System for diagnosis of HIV among TB clients',\n",
       " 'System for diagnosis of TB among HIV clients',\n",
       " 'Drug Avaliable, at the time of visit?',\n",
       " 'At least for 1 month(EOP)',\n",
       " 'If stock is less than EOP, did you make emergency order?',\n",
       " 'Stock out In the last one year (Times)',\n",
       " 'Stock out In the last one year (Days)',\n",
       " 'Drug Avaliable, at the time of visit?.1',\n",
       " 'At least for 1 month(EOP).1',\n",
       " 'If stock is less than EOP, did you make emergency order?.1',\n",
       " 'Stock out In the last one year (Times).1',\n",
       " 'Stock out In the last one year (Days).1',\n",
       " 'Drug Avaliable, at the time of visit?.2',\n",
       " 'At least for 1 month(EOP).2',\n",
       " 'If stock is less than EOP, did you make emergency order?.2',\n",
       " 'Stock out In the last one year (Times).2',\n",
       " 'Stock out In the last one year (Days).2',\n",
       " 'Drug Avaliable, at the time of visit?.3',\n",
       " 'At least for 1 month(EOP).3',\n",
       " 'If stock is less than EOP, did you make emergency order?.3',\n",
       " 'Stock out In the last one year (Times).3',\n",
       " 'Stock out In the last one year (Days).3',\n",
       " 'Drug Avaliable, at the time of visit?.4',\n",
       " 'At least for 1 month(EOP).4',\n",
       " 'If stock is less than EOP, did you make emergency order?.4',\n",
       " 'Stock out In the last one year (Times).4',\n",
       " 'Stock out In the last one year (Days).4',\n",
       " 'Drug Avaliable, at the time of visit?.5',\n",
       " 'At least for 1 month(EOP).5',\n",
       " 'If stock is less than EOP, did you make emergency order?.5',\n",
       " 'Stock out In the last one year (Times).5',\n",
       " 'Stock out In the last one year (Days).5',\n",
       " 'Drug Avaliable, at the time of visit?.6',\n",
       " 'At least for 1 month(EOP).6',\n",
       " 'If stock is less than EOP, did you make emergency order?.6',\n",
       " 'Stock out In the last one year (Times).6',\n",
       " 'Stock out In the last one year (Days).6',\n",
       " 'Drug Avaliable, at the time of visit?.7',\n",
       " 'At least for 1 month(EOP).7',\n",
       " 'If stock is less than EOP, did you make emergency order?.7',\n",
       " 'Stock out In the last one year (Times).7',\n",
       " 'Stock out In the last one year (Days).7',\n",
       " 'Drug Avaliable, at the time of visit?.8',\n",
       " 'At least for 1 month(EOP).8',\n",
       " 'If stock is less than EOP, did you make emergency order?.8',\n",
       " 'Stock out In the last one year (Times).8',\n",
       " 'Stock out In the last one year (Days).8',\n",
       " 'Drug Avaliable, at the time of visit?.9',\n",
       " 'At least for 1 month(EOP).9',\n",
       " 'If stock is less than EOP, did you make emergency order?.9',\n",
       " 'Stock out In the last one year (Times).9',\n",
       " 'Stock out In the last one year (Days).9',\n",
       " 'Drug Avaliable, at the time of visit?.10',\n",
       " 'At least for 1 month(EOP).10',\n",
       " 'If stock is less than EOP, did you make emergency order?.10',\n",
       " 'Stock out In the last one year (Times).10',\n",
       " 'Stock out In the last one year (Days).10',\n",
       " 'Drug Avaliable, at the time of visit?.11',\n",
       " 'At least for 1 month(EOP).11',\n",
       " 'If stock is less than EOP, did you make emergency order?.11',\n",
       " 'Stock out In the last one year (Times).11',\n",
       " 'Stock out In the last one year (Days).11',\n",
       " 'Drug Avaliable, at the time of visit?.12',\n",
       " 'At least for 1 month(EOP).12',\n",
       " 'If stock is less than EOP, did you make emergency order?.12',\n",
       " 'Stock out In the last one year (Times).12',\n",
       " 'Stock out In the last one year (Days).12',\n",
       " 'Drug Avaliable, at the time of visit?.13',\n",
       " 'At least for 1 month(EOP).13',\n",
       " 'If stock is less than EOP, did you make emergency order?.13',\n",
       " 'Stock out In the last one year (Times).13',\n",
       " 'Stock out In the last one year (Days).13',\n",
       " 'Drug Avaliable, at the time of visit?.14',\n",
       " 'At least for 1 month(EOP).14',\n",
       " 'If stock is less than EOP, did you make emergency order?.14',\n",
       " 'Stock out In the last one year (Times).14',\n",
       " 'Stock out In the last one year (Days).14',\n",
       " 'Drug Avaliable, at the time of visit?.15',\n",
       " 'At least for 1 month(EOP).15',\n",
       " 'If stock is less than EOP, did you make emergency order?.15',\n",
       " 'Stock out In the last one year (Times).15',\n",
       " 'Stock out In the last one year (Days).15',\n",
       " 'Drug Avaliable, at the time of visit?.16',\n",
       " 'At least for 1 month(EOP).16',\n",
       " 'If stock is less than EOP, did you make emergency order?.16',\n",
       " 'Stock out In the last one year (Times).16',\n",
       " 'Stock out In the last one year (Days).16',\n",
       " 'Drug Avaliable, at the time of visit?.17',\n",
       " 'At least for 1 month(EOP).17',\n",
       " 'If stock is less than EOP, did you make emergency order?.17',\n",
       " 'Stock out In the last one year (Times).17',\n",
       " 'Stock out In the last one year (Days).17',\n",
       " 'Drug Avaliable, at the time of visit?.18',\n",
       " 'At least for 1 month(EOP).18',\n",
       " 'If stock is less than EOP, did you make emergency order?.18',\n",
       " 'Stock out In the last one year (Times).18',\n",
       " 'Stock out In the last one year (Days).18',\n",
       " 'Drug Avaliable, at the time of visit?.19',\n",
       " 'At least for 1 month(EOP).19',\n",
       " 'If stock is less than EOP, did you make emergency order?.19',\n",
       " 'Stock out In the last one year (Times).19',\n",
       " 'Stock out In the last one year (Days).19',\n",
       " 'Drug Avaliable, at the time of visit?.20',\n",
       " 'At least for 1 month(EOP).20',\n",
       " 'If stock is less than EOP, did you make emergency order?.20',\n",
       " 'Stock out In the last one year (Times).20',\n",
       " 'Stock out In the last one year (Days).20',\n",
       " 'Drug Avaliable, at the time of visit?.21',\n",
       " 'At least for 1 month(EOP).21',\n",
       " 'If stock is less than EOP, did you make emergency order?.21',\n",
       " 'Stock out In the last one year (Times).21',\n",
       " 'Stock out In the last one year (Days).21',\n",
       " 'Drug Avaliable, at the time of visit?.22',\n",
       " 'At least for 1 month(EOP).22',\n",
       " 'If stock is less than EOP, did you make emergency order?.22',\n",
       " 'Stock out In the last one year (Times).22',\n",
       " 'Stock out In the last one year (Days).22',\n",
       " 'Drug Avaliable, at the time of visit?.23',\n",
       " 'At least for 1 month(EOP).23',\n",
       " 'If stock is less than EOP, did you make emergency order?.23',\n",
       " 'Stock out In the last one year (Times).23',\n",
       " 'Stock out In the last one year (Days).23',\n",
       " 'Drug Avaliable, at the time of visit?.24',\n",
       " 'At least for 1 month(EOP).24',\n",
       " 'If stock is less than EOP, did you make emergency order?.24',\n",
       " 'Stock out In the last one year (Times).24',\n",
       " 'Stock out In the last one year (Days).24',\n",
       " 'Drug Avaliable, at the time of visit?.25',\n",
       " 'At least for 1 month(EOP).25',\n",
       " 'If stock is less than EOP, did you make emergency order?.25',\n",
       " 'Stock out In the last one year (Times).25',\n",
       " 'Stock out In the last one year (Days).25',\n",
       " 'Drug Avaliable, at the time of visit?.26',\n",
       " 'At least for 1 month(EOP).26',\n",
       " 'If stock is less than EOP, did you make emergency order?.26',\n",
       " 'Stock out In the last one year (Times).26',\n",
       " 'Stock out In the last one year (Days).26',\n",
       " 'Drug Avaliable, at the time of visit?.27',\n",
       " 'At least for 1 month(EOP).27',\n",
       " 'If stock is less than EOP, did you make emergency order?.27',\n",
       " 'Stock out In the last one year (Times).27',\n",
       " 'Stock out In the last one year (Days).27',\n",
       " 'Drug Avaliable, at the time of visit?.28',\n",
       " 'At least for 1 month(EOP).28',\n",
       " 'If stock is less than EOP, did you make emergency order?.28',\n",
       " 'Stock out In the last one year (Times).28',\n",
       " 'Stock out In the last one year (Days).28',\n",
       " 'Drug Avaliable, at the time of visit?.29',\n",
       " 'At least for 1 month(EOP).29',\n",
       " 'If stock is less than EOP, did you make emergency order?.29',\n",
       " 'Stock out In the last one year (Times).29',\n",
       " 'Stock out In the last one year (Days).29',\n",
       " 'Drug Avaliable, at the time of visit?.30',\n",
       " 'At least for 1 month(EOP).30',\n",
       " 'If stock is less than EOP, did you make emergency order?.30',\n",
       " 'Stock out In the last one year (Times).30',\n",
       " 'Stock out In the last one year (Days).30',\n",
       " 'Drug Avaliable, at the time of visit?.31',\n",
       " 'At least for 1 month(EOP).31',\n",
       " 'If stock is less than EOP, did you make emergency order?.31',\n",
       " 'Stock out In the last one year (Times).31',\n",
       " 'Stock out In the last one year (Days).31',\n",
       " 'Drug Avaliable, at the time of visit?.32',\n",
       " 'At least for 1 month(EOP).32',\n",
       " 'If stock is less than EOP, did you make emergency order?.32',\n",
       " 'Stock out In the last one year (Times).32',\n",
       " 'Stock out In the last one year (Days).32',\n",
       " 'Drug Avaliable, at the time of visit?.33',\n",
       " 'At least for 1 month(EOP).33',\n",
       " 'If stock is less than EOP, did you make emergency order?.33',\n",
       " 'Stock out In the last one year (Times).33',\n",
       " 'Stock out In the last one year (Days).33',\n",
       " 'Drug Avaliable, at the time of visit?.34',\n",
       " 'At least for 1 month(EOP).34',\n",
       " 'If stock is less than EOP, did you make emergency order?.34',\n",
       " 'Stock out In the last one year (Times).34',\n",
       " 'Stock out In the last one year (Days).34',\n",
       " 'Drug Avaliable, at the time of visit?.35',\n",
       " 'At least for 1 month(EOP).35',\n",
       " 'If stock is less than EOP, did you make emergency order?.35',\n",
       " 'Stock out In the last one year (Times).35',\n",
       " 'Stock out In the last one year (Days).35',\n",
       " 'Drug Avaliable, at the time of visit?.36',\n",
       " 'At least for 1 month(EOP).36',\n",
       " 'If stock is less than EOP, did you make emergency order?.36',\n",
       " 'Stock out In the last one year (Times).36',\n",
       " 'Stock out In the last one year (Days).36',\n",
       " 'Drug Avaliable, at the time of visit?.37',\n",
       " 'At least for 1 month(EOP).37',\n",
       " 'If stock is less than EOP, did you make emergency order?.37',\n",
       " 'Stock out In the last one year (Times).37',\n",
       " 'Stock out In the last one year (Days).37',\n",
       " 'Drug Avaliable, at the time of visit?.38',\n",
       " 'At least for 1 month(EOP).38',\n",
       " 'If stock is less than EOP, did you make emergency order?.38',\n",
       " 'Stock out In the last one year (Times).38',\n",
       " 'Stock out In the last one year (Days).38',\n",
       " 'Drug Avaliable, at the time of visit?.39',\n",
       " 'At least for 1 month(EOP).39',\n",
       " 'If stock is less than EOP, did you make emergency order?.39',\n",
       " 'Stock out In the last one year (Times).39',\n",
       " 'Stock out In the last one year (Days).39',\n",
       " 'Drug Avaliable, at the time of visit?.40',\n",
       " 'At least for 1 month(EOP).40',\n",
       " 'If stock is less than EOP, did you make emergency order?.40',\n",
       " 'Stock out In the last one year (Times).40',\n",
       " 'Stock out In the last one year (Days).40',\n",
       " 'Drug Avaliable, at the time of visit?.41',\n",
       " 'At least for 1 month(EOP).41',\n",
       " 'If stock is less than EOP, did you make emergency order?.41',\n",
       " 'Stock out In the last one year (Times).41',\n",
       " 'Stock out In the last one year (Days).41',\n",
       " 'Drug Avaliable, at the time of visit?.42',\n",
       " 'At least for 1 month(EOP).42',\n",
       " 'If stock is less than EOP, did you make emergency order?.42',\n",
       " 'Stock out In the last one year (Times).42',\n",
       " 'Stock out In the last one year (Days).42',\n",
       " 'Drug Avaliable, at the time of visit?.43',\n",
       " 'At least for 1 month(EOP).43',\n",
       " 'If stock is less than EOP, did you make emergency order?.43',\n",
       " 'Stock out In the last one year (Times).43',\n",
       " 'Stock out In the last one year (Days).43',\n",
       " 'Drug Avaliable, at the time of visit?.44',\n",
       " 'At least for 1 month(EOP).44',\n",
       " 'If stock is less than EOP, did you make emergency order?.44',\n",
       " 'Stock out In the last one year (Times).44',\n",
       " 'Stock out In the last one year (Days).44',\n",
       " 'Drug Avaliable, at the time of visit?.45',\n",
       " 'At least for 1 month(EOP).45',\n",
       " 'If stock is less than EOP, did you make emergency order?.45',\n",
       " 'Stock out In the last one year (Times).45',\n",
       " 'Stock out In the last one year (Days).45',\n",
       " 'Drug Avaliable, at the time of visit?.46',\n",
       " 'At least for 1 month(EOP).46',\n",
       " 'If stock is less than EOP, did you make emergency order?.46',\n",
       " 'Stock out In the last one year (Times).46',\n",
       " 'Stock out In the last one year (Days).46',\n",
       " 'Drug Avaliable, at the time of visit?.47',\n",
       " 'At least for 1 month(EOP).47',\n",
       " 'If stock is less than EOP, did you make emergency order?.47',\n",
       " 'Stock out In the last one year (Times).47',\n",
       " 'Stock out In the last one year (Days).47',\n",
       " 'Drug Avaliable, at the time of visit?.48',\n",
       " 'At least for 1 month(EOP).48',\n",
       " 'If stock is less than EOP, did you make emergency order?.48',\n",
       " 'Stock out In the last one year (Times).48',\n",
       " 'Stock out In the last one year (Days).48',\n",
       " 'Drug Avaliable, at the time of visit?.49',\n",
       " 'At least for 1 month(EOP).49',\n",
       " 'If stock is less than EOP, did you make emergency order?.49',\n",
       " 'Stock out In the last one year (Times).49',\n",
       " 'Stock out In the last one year (Days).49',\n",
       " 'Drug Avaliable, at the time of visit?.50',\n",
       " 'At least for 1 month(EOP).50',\n",
       " 'If stock is less than EOP, did you make emergency order?.50',\n",
       " 'Stock out In the last one year (Times).50',\n",
       " 'Stock out In the last one year (Days).50',\n",
       " 'Drug Avaliable, at the time of visit?.51',\n",
       " 'At least for 1 month(EOP).51',\n",
       " 'If stock is less than EOP, did you make emergency order?.51',\n",
       " 'Stock out In the last one year (Times).51',\n",
       " 'Stock out In the last one year (Days).51',\n",
       " 'Drug Avaliable, at the time of visit?.52',\n",
       " 'At least for 1 month(EOP).52',\n",
       " 'If stock is less than EOP, did you make emergency order?.52',\n",
       " 'Stock out In the last one year (Times).52',\n",
       " 'Stock out In the last one year (Days).52',\n",
       " 'Drug Avaliable, at the time of visit?.53',\n",
       " 'At least for 1 month(EOP).53',\n",
       " 'If stock is less than EOP, did you make emergency order?.53',\n",
       " 'Stock out In the last one year (Times).53',\n",
       " 'Stock out In the last one year (Days).53',\n",
       " 'Drug Avaliable, at the time of visit?.54',\n",
       " 'At least for 1 month(EOP).54',\n",
       " 'If stock is less than EOP, did you make emergency order?.54',\n",
       " 'Stock out In the last one year (Times).54',\n",
       " 'Stock out In the last one year (Days).54',\n",
       " 'Drug Avaliable, at the time of visit?.55',\n",
       " 'At least for 1 month(EOP).55',\n",
       " 'If stock is less than EOP, did you make emergency order?.55',\n",
       " 'Stock out In the last one year (Times).55',\n",
       " 'Stock out In the last one year (Days).55',\n",
       " 'Drug Avaliable, at the time of visit?.56',\n",
       " 'At least for 1 month(EOP).56',\n",
       " 'If stock is less than EOP, did you make emergency order?.56',\n",
       " 'Stock out In the last one year (Times).56',\n",
       " 'Stock out In the last one year (Days).56',\n",
       " 'Drug Avaliable, at the time of visit?.57',\n",
       " 'At least for 1 month(EOP).57',\n",
       " 'If stock is less than EOP, did you make emergency order?.57',\n",
       " 'Stock out In the last one year (Times).57',\n",
       " 'Stock out In the last one year (Days).57',\n",
       " 'Drug Avaliable, at the time of visit?.58',\n",
       " 'At least for 1 month(EOP).58',\n",
       " 'If stock is less than EOP, did you make emergency order?.58',\n",
       " 'Stock out In the last one year (Times).58',\n",
       " 'Stock out In the last one year (Days).58',\n",
       " 'Drug Avaliable, at the time of visit?.59',\n",
       " 'At least for 1 month(EOP).59',\n",
       " 'If stock is less than EOP, did you make emergency order?.59',\n",
       " 'Stock out In the last one year (Times).59',\n",
       " 'Stock out In the last one year (Days).59',\n",
       " 'Drug Avaliable, at the time of visit?.60',\n",
       " 'At least for 1 month(EOP).60',\n",
       " 'If stock is less than EOP, did you make emergency order?.60',\n",
       " 'Stock out In the last one year (Times).60',\n",
       " 'Stock out In the last one year (Days).60',\n",
       " 'Drug Avaliable, at the time of visit?.61',\n",
       " 'At least for 1 month(EOP).61',\n",
       " 'If stock is less than EOP, did you make emergency order?.61',\n",
       " 'Stock out In the last one year (Times).61',\n",
       " 'Stock out In the last one year (Days).61',\n",
       " 'Drug Avaliable, at the time of visit?.62',\n",
       " 'At least for 1 month(EOP).62',\n",
       " 'If stock is less than EOP, did you make emergency order?.62',\n",
       " 'Stock out In the last one year (Times).62',\n",
       " 'Stock out In the last one year (Days).62',\n",
       " 'Drug Avaliable, at the time of visit?.63',\n",
       " 'At least for 1 month(EOP).63',\n",
       " 'If stock is less than EOP, did you make emergency order?.63',\n",
       " 'Stock out In the last one year (Times).63',\n",
       " 'Stock out In the last one year (Days).63',\n",
       " 'Drug Avaliable, at the time of visit?.64',\n",
       " 'At least for 1 month(EOP).64',\n",
       " 'If stock is less than EOP, did you make emergency order?.64',\n",
       " 'Stock out In the last one year (Times).64',\n",
       " 'Stock out In the last one year (Days).64',\n",
       " 'Drug Avaliable, at the time of visit?.65',\n",
       " 'At least for 1 month(EOP).65',\n",
       " 'If stock is less than EOP, did you make emergency order?.65',\n",
       " 'Stock out In the last one year (Times).65',\n",
       " 'Stock out In the last one year (Days).65',\n",
       " 'Drug Avaliable, at the time of visit?.66',\n",
       " 'At least for 1 month(EOP).66',\n",
       " 'If stock is less than EOP, did you make emergency order?.66',\n",
       " 'Stock out In the last one year (Times).66',\n",
       " 'Stock out In the last one year (Days).66',\n",
       " 'Drug Avaliable, at the time of visit?.67',\n",
       " 'At least for 1 month(EOP).67',\n",
       " 'If stock is less than EOP, did you make emergency order?.67',\n",
       " 'Stock out In the last one year (Times).67',\n",
       " 'Stock out In the last one year (Days).67',\n",
       " 'Drug Avaliable, at the time of visit?.68',\n",
       " 'At least for 1 month(EOP).68',\n",
       " 'If stock is less than EOP, did you make emergency order?.68',\n",
       " 'Stock out In the last one year (Times).68',\n",
       " 'Stock out In the last one year (Days).68',\n",
       " 'Drug Avaliable, at the time of visit?.69',\n",
       " 'At least for 1 month(EOP).69',\n",
       " 'If stock is less than EOP, did you make emergency order?.69',\n",
       " 'Stock out In the last one year (Times).69',\n",
       " 'Stock out In the last one year (Days).69',\n",
       " 'Drug Avaliable, at the time of visit?.70',\n",
       " 'At least for 1 month(EOP).70',\n",
       " 'If stock is less than EOP, did you make emergency order?.70',\n",
       " 'Stock out In the last one year (Times).70',\n",
       " 'Stock out In the last one year (Days).70',\n",
       " 'Drug Avaliable, at the time of visit?.71',\n",
       " 'At least for 1 month(EOP).71',\n",
       " 'If stock is less than EOP, did you make emergency order?.71',\n",
       " 'Stock out In the last one year (Times).71',\n",
       " 'Stock out In the last one year (Days).71',\n",
       " 'Drug Avaliable, at the time of visit?.72',\n",
       " 'At least for 1 month(EOP).72',\n",
       " 'If stock is less than EOP, did you make emergency order?.72',\n",
       " 'Stock out In the last one year (Times).72',\n",
       " 'Stock out In the last one year (Days).72',\n",
       " 'Drug Avaliable, at the time of visit?.73',\n",
       " 'At least for 1 month(EOP).73',\n",
       " 'If stock is less than EOP, did you make emergency order?.73',\n",
       " 'Stock out In the last one year (Times).73',\n",
       " 'Stock out In the last one year (Days).73',\n",
       " 'Drug Avaliable, at the time of visit?.74',\n",
       " 'At least for 1 month(EOP).74',\n",
       " 'If stock is less than EOP, did you make emergency order?.74',\n",
       " 'Stock out In the last one year (Times).74',\n",
       " 'Stock out In the last one year (Days).74',\n",
       " 'Drug Avaliable, at the time of visit?.75',\n",
       " 'At least for 1 month(EOP).75',\n",
       " 'If stock is less than EOP, did you make emergency order?.75',\n",
       " 'Stock out In the last one year (Times).75',\n",
       " 'Stock out In the last one year (Days).75',\n",
       " 'Drug Avaliable, at the time of visit?.76',\n",
       " 'At least for 1 month(EOP).76',\n",
       " 'If stock is less than EOP, did you make emergency order?.76',\n",
       " 'Stock out In the last one year (Times).76',\n",
       " 'Stock out In the last one year (Days).76',\n",
       " 'Drug Avaliable, at the time of visit?.77',\n",
       " 'At least for 1 month(EOP).77',\n",
       " 'If stock is less than EOP, did you make emergency order?.77',\n",
       " 'Stock out In the last one year (Times).77',\n",
       " 'Stock out In the last one year (Days).77',\n",
       " 'Drug Avaliable, at the time of visit?.78',\n",
       " 'At least for 1 month(EOP).78',\n",
       " 'If stock is less than EOP, did you make emergency order?.78',\n",
       " 'Stock out In the last one year (Times).78',\n",
       " 'Stock out In the last one year (Days).78',\n",
       " 'Drug Avaliable, at the time of visit?.79',\n",
       " 'At least for 1 month(EOP).79',\n",
       " 'If stock is less than EOP, did you make emergency order?.79',\n",
       " 'Stock out In the last one year (Times).79',\n",
       " 'Stock out In the last one year (Days).79',\n",
       " 'Drug Avaliable, at the time of visit?.80',\n",
       " 'At least for 1 month(EOP).80',\n",
       " 'If stock is less than EOP, did you make emergency order?.80',\n",
       " 'Stock out In the last one year (Times).80',\n",
       " 'Stock out In the last one year (Days).80',\n",
       " 'Drug Avaliable, at the time of visit?.81',\n",
       " 'At least for 1 month(EOP).81',\n",
       " 'If stock is less than EOP, did you make emergency order?.81',\n",
       " 'Stock out In the last one year (Times).81',\n",
       " 'Stock out In the last one year (Days).81',\n",
       " 'Drug Avaliable, at the time of visit?.82',\n",
       " 'At least for 1 month(EOP).82',\n",
       " 'If stock is less than EOP, did you make emergency order?.82',\n",
       " 'Stock out In the last one year (Times).82',\n",
       " 'Stock out In the last one year (Days).82',\n",
       " 'Drug Avaliable, at the time of visit?.83',\n",
       " 'At least for 1 month(EOP).83',\n",
       " 'If stock is less than EOP, did you make emergency order?.83',\n",
       " 'Stock out In the last one year (Times).83',\n",
       " 'Stock out In the last one year (Days).83',\n",
       " 'Drug Avaliable, at the time of visit?.84',\n",
       " 'At least for 1 month(EOP).84',\n",
       " 'If stock is less than EOP, did you make emergency order?.84',\n",
       " 'Stock out In the last one year (Times).84',\n",
       " 'Stock out In the last one year (Days).84',\n",
       " 'Drug Avaliable, at the time of visit?.85',\n",
       " 'At least for 1 month(EOP).85',\n",
       " 'If stock is less than EOP, did you make emergency order?.85',\n",
       " 'Stock out In the last one year (Times).85',\n",
       " 'Stock out In the last one year (Days).85',\n",
       " 'Availability of government pharmacy in the hospital?',\n",
       " 'Regular reporting and recording of LMIS format (Govt. Hospital)?',\n",
       " 'Disposal procedure of expired drugs (followed as per the guideline)?',\n",
       " 'Does your HF have a functional & inclusive management committee?',\n",
       " 'If yes, is this committee formed as per the guideline?',\n",
       " 'How often does this committee sit for meetings?',\n",
       " 'Does your HF have periodic municipality health plan?',\n",
       " 'Was an annual municipality Health Plan for FY 2072-73 developed for your HF?',\n",
       " 'Was a social audit conducted in the FY 2072-73 in this Health Facility’s catchment area?',\n",
       " ...]"
      ]
     },
     "execution_count": 24,
     "metadata": {},
     "output_type": "execute_result"
    }
   ],
   "source": [
    "list(df.columns.values)"
   ]
  },
  {
   "cell_type": "code",
   "execution_count": 27,
   "metadata": {},
   "outputs": [
    {
     "data": {
      "text/plain": [
       "Nepalgunj (Banke)              227\n",
       "Madhyapur thimi (Bhaktapur)    108\n",
       "Attriya (Kailali)               73\n",
       "Name: Name of Municipalities?, dtype: int64"
      ]
     },
     "execution_count": 27,
     "metadata": {},
     "output_type": "execute_result"
    }
   ],
   "source": [
    "municipalities = df[\"Name of Municipalities?\"].value_counts()\n",
    "municipalities"
   ]
  },
  {
   "cell_type": "markdown",
   "metadata": {},
   "source": [
    "# Ward wise different types of health service in 3 municipalities"
   ]
  },
  {
   "cell_type": "markdown",
   "metadata": {},
   "source": [
    "## In Thimi (Bhaktapur)"
   ]
  },
  {
   "cell_type": "code",
   "execution_count": 17,
   "metadata": {},
   "outputs": [],
   "source": [
    "df = pd.read_csv(\"kaushal.csv\")"
   ]
  },
  {
   "cell_type": "code",
   "execution_count": 4,
   "metadata": {},
   "outputs": [],
   "source": [
    "df = df[df[\"Name of Municipalities?\"]==\"Madhyapur thimi (Bhaktapur)\"]"
   ]
  },
  {
   "cell_type": "code",
   "execution_count": 13,
   "metadata": {},
   "outputs": [],
   "source": [
    "df = df[[\"Ward No\",\"Type of Health facility\"]]\n",
    "df[\"Ward No\"] = df[\"Ward No\"].astype(int)"
   ]
  },
  {
   "cell_type": "code",
   "execution_count": 14,
   "metadata": {},
   "outputs": [],
   "source": [
    "dff = df.groupby([\"Ward No\"])[\"Type of Health facility\"]\n",
    "labels = []\n",
    "parents = []\n",
    "values = []\n",
    "for i, d in dff:\n",
    "    labels.append(f\"ward {i}\")\n",
    "    values.append(int(len(d)))\n",
    "    parents.append(\"Bhaktapur\")\n",
    "\n",
    "for i, d in dff:\n",
    "    a = d.value_counts().astype(int)\n",
    "    for t in a.index:\n",
    "        labels.append(f\"ward {i} - {t}\")\n",
    "        parents.append(f\"ward {i}\")\n",
    "    for t in a.values:\n",
    "        values.append(int(t))\n",
    "\n",
    "parents.insert(0, \"\")\n",
    "labels.insert(0, \"Bhaktapur\")\n",
    "values.insert(0, len(df))"
   ]
  },
  {
   "cell_type": "code",
   "execution_count": 16,
   "metadata": {},
   "outputs": [
    {
     "data": {
      "application/vnd.plotly.v1+json": {
       "config": {
        "linkText": "Export to plot.ly",
        "plotlyServerURL": "https://plot.ly",
        "showLink": false
       },
       "data": [
        {
         "labels": [
          "Nepalgunj",
          "ward 1",
          "ward 2",
          "ward 3",
          "ward 5",
          "ward 6",
          "ward 7",
          "ward 8",
          "ward 9",
          "ward 10",
          "ward 11",
          "ward 13",
          "ward 14",
          "ward 15",
          "ward 16",
          "ward 17",
          "ward 1 - Pharmacy",
          "ward 1 - Urban Health Centre",
          "ward 2 - Pharmacy",
          "ward 3 - Health Post",
          "ward 5 - PHC/ORC",
          "ward 5 - EPI",
          "ward 5 - Pharmacy",
          "ward 5 - Health Post",
          "ward 6 - PHC/ORC",
          "ward 6 - EPI",
          "ward 7 - Pharmacy",
          "ward 7 - Health Post",
          "ward 7 - EPI",
          "ward 7 - Private clinic",
          "ward 7 - Ayurbedic",
          "ward 8 - Private clinic",
          "ward 8 - Pharmacy",
          "ward 9 - PHC/ORC",
          "ward 9 - Pharmacy",
          "ward 10 - PHC/ORC",
          "ward 11 - PHC/ORC",
          "ward 11 - Pharmacy",
          "ward 11 - Community Hospital",
          "ward 13 - Pharmacy",
          "ward 13 - Private clinic",
          "ward 13 - Ayurbedic",
          "ward 14 - Pharmacy",
          "ward 14 - Private Hospital",
          "ward 14 - EPI",
          "ward 14 - Health Post",
          "ward 15 - Pharmacy",
          "ward 15 - Private clinic",
          "ward 15 - Private Hospital",
          "ward 15 - Ayurbedic",
          "ward 16 - Pharmacy",
          "ward 16 - Private clinic",
          "ward 16 - PHC/ORC",
          "ward 16 - Ayurbedic",
          "ward 16 - EPI",
          "ward 16 - Health Post",
          "ward 16 - Private Hospital",
          "ward 17 - Pharmacy",
          "ward 17 - PHC/ORC",
          "ward 17 - EPI"
         ],
         "marker": {
          "line": {
           "width": 2
          }
         },
         "outsidetextfont": {
          "color": "#377eb8",
          "size": 20
         },
         "parents": [
          "",
          "Nepalgunj",
          "Nepalgunj",
          "Nepalgunj",
          "Nepalgunj",
          "Nepalgunj",
          "Nepalgunj",
          "Nepalgunj",
          "Nepalgunj",
          "Nepalgunj",
          "Nepalgunj",
          "Nepalgunj",
          "Nepalgunj",
          "Nepalgunj",
          "Nepalgunj",
          "Nepalgunj",
          "ward 1",
          "ward 1",
          "ward 2",
          "ward 3",
          "ward 5",
          "ward 5",
          "ward 5",
          "ward 5",
          "ward 6",
          "ward 6",
          "ward 7",
          "ward 7",
          "ward 7",
          "ward 7",
          "ward 7",
          "ward 8",
          "ward 8",
          "ward 9",
          "ward 9",
          "ward 10",
          "ward 11",
          "ward 11",
          "ward 11",
          "ward 13",
          "ward 13",
          "ward 13",
          "ward 14",
          "ward 14",
          "ward 14",
          "ward 14",
          "ward 15",
          "ward 15",
          "ward 15",
          "ward 15",
          "ward 16",
          "ward 16",
          "ward 16",
          "ward 16",
          "ward 16",
          "ward 16",
          "ward 16",
          "ward 17",
          "ward 17",
          "ward 17"
         ],
         "type": "sunburst",
         "values": [
          108,
          5,
          1,
          1,
          5,
          2,
          9,
          2,
          2,
          1,
          3,
          15,
          7,
          27,
          24,
          4,
          3,
          1,
          1,
          1,
          1,
          1,
          1,
          1,
          1,
          1,
          5,
          1,
          1,
          1,
          1,
          1,
          1,
          1,
          1,
          1,
          1,
          1,
          1,
          6,
          5,
          2,
          4,
          1,
          1,
          1,
          16,
          7,
          1,
          1,
          9,
          4,
          2,
          2,
          2,
          1,
          1,
          2,
          1,
          1
         ]
        }
       ],
       "layout": {
        "margin": {
         "b": 0,
         "l": 0,
         "r": 0,
         "t": 0
        },
        "template": {
         "data": {
          "bar": [
           {
            "error_x": {
             "color": "#2a3f5f"
            },
            "error_y": {
             "color": "#2a3f5f"
            },
            "marker": {
             "line": {
              "color": "#E5ECF6",
              "width": 0.5
             }
            },
            "type": "bar"
           }
          ],
          "barpolar": [
           {
            "marker": {
             "line": {
              "color": "#E5ECF6",
              "width": 0.5
             }
            },
            "type": "barpolar"
           }
          ],
          "carpet": [
           {
            "aaxis": {
             "endlinecolor": "#2a3f5f",
             "gridcolor": "white",
             "linecolor": "white",
             "minorgridcolor": "white",
             "startlinecolor": "#2a3f5f"
            },
            "baxis": {
             "endlinecolor": "#2a3f5f",
             "gridcolor": "white",
             "linecolor": "white",
             "minorgridcolor": "white",
             "startlinecolor": "#2a3f5f"
            },
            "type": "carpet"
           }
          ],
          "choropleth": [
           {
            "colorbar": {
             "outlinewidth": 0,
             "ticks": ""
            },
            "type": "choropleth"
           }
          ],
          "contour": [
           {
            "colorbar": {
             "outlinewidth": 0,
             "ticks": ""
            },
            "colorscale": [
             [
              0,
              "#0d0887"
             ],
             [
              0.1111111111111111,
              "#46039f"
             ],
             [
              0.2222222222222222,
              "#7201a8"
             ],
             [
              0.3333333333333333,
              "#9c179e"
             ],
             [
              0.4444444444444444,
              "#bd3786"
             ],
             [
              0.5555555555555556,
              "#d8576b"
             ],
             [
              0.6666666666666666,
              "#ed7953"
             ],
             [
              0.7777777777777778,
              "#fb9f3a"
             ],
             [
              0.8888888888888888,
              "#fdca26"
             ],
             [
              1,
              "#f0f921"
             ]
            ],
            "type": "contour"
           }
          ],
          "contourcarpet": [
           {
            "colorbar": {
             "outlinewidth": 0,
             "ticks": ""
            },
            "type": "contourcarpet"
           }
          ],
          "heatmap": [
           {
            "colorbar": {
             "outlinewidth": 0,
             "ticks": ""
            },
            "colorscale": [
             [
              0,
              "#0d0887"
             ],
             [
              0.1111111111111111,
              "#46039f"
             ],
             [
              0.2222222222222222,
              "#7201a8"
             ],
             [
              0.3333333333333333,
              "#9c179e"
             ],
             [
              0.4444444444444444,
              "#bd3786"
             ],
             [
              0.5555555555555556,
              "#d8576b"
             ],
             [
              0.6666666666666666,
              "#ed7953"
             ],
             [
              0.7777777777777778,
              "#fb9f3a"
             ],
             [
              0.8888888888888888,
              "#fdca26"
             ],
             [
              1,
              "#f0f921"
             ]
            ],
            "type": "heatmap"
           }
          ],
          "heatmapgl": [
           {
            "colorbar": {
             "outlinewidth": 0,
             "ticks": ""
            },
            "colorscale": [
             [
              0,
              "#0d0887"
             ],
             [
              0.1111111111111111,
              "#46039f"
             ],
             [
              0.2222222222222222,
              "#7201a8"
             ],
             [
              0.3333333333333333,
              "#9c179e"
             ],
             [
              0.4444444444444444,
              "#bd3786"
             ],
             [
              0.5555555555555556,
              "#d8576b"
             ],
             [
              0.6666666666666666,
              "#ed7953"
             ],
             [
              0.7777777777777778,
              "#fb9f3a"
             ],
             [
              0.8888888888888888,
              "#fdca26"
             ],
             [
              1,
              "#f0f921"
             ]
            ],
            "type": "heatmapgl"
           }
          ],
          "histogram": [
           {
            "marker": {
             "colorbar": {
              "outlinewidth": 0,
              "ticks": ""
             }
            },
            "type": "histogram"
           }
          ],
          "histogram2d": [
           {
            "colorbar": {
             "outlinewidth": 0,
             "ticks": ""
            },
            "colorscale": [
             [
              0,
              "#0d0887"
             ],
             [
              0.1111111111111111,
              "#46039f"
             ],
             [
              0.2222222222222222,
              "#7201a8"
             ],
             [
              0.3333333333333333,
              "#9c179e"
             ],
             [
              0.4444444444444444,
              "#bd3786"
             ],
             [
              0.5555555555555556,
              "#d8576b"
             ],
             [
              0.6666666666666666,
              "#ed7953"
             ],
             [
              0.7777777777777778,
              "#fb9f3a"
             ],
             [
              0.8888888888888888,
              "#fdca26"
             ],
             [
              1,
              "#f0f921"
             ]
            ],
            "type": "histogram2d"
           }
          ],
          "histogram2dcontour": [
           {
            "colorbar": {
             "outlinewidth": 0,
             "ticks": ""
            },
            "colorscale": [
             [
              0,
              "#0d0887"
             ],
             [
              0.1111111111111111,
              "#46039f"
             ],
             [
              0.2222222222222222,
              "#7201a8"
             ],
             [
              0.3333333333333333,
              "#9c179e"
             ],
             [
              0.4444444444444444,
              "#bd3786"
             ],
             [
              0.5555555555555556,
              "#d8576b"
             ],
             [
              0.6666666666666666,
              "#ed7953"
             ],
             [
              0.7777777777777778,
              "#fb9f3a"
             ],
             [
              0.8888888888888888,
              "#fdca26"
             ],
             [
              1,
              "#f0f921"
             ]
            ],
            "type": "histogram2dcontour"
           }
          ],
          "mesh3d": [
           {
            "colorbar": {
             "outlinewidth": 0,
             "ticks": ""
            },
            "type": "mesh3d"
           }
          ],
          "parcoords": [
           {
            "line": {
             "colorbar": {
              "outlinewidth": 0,
              "ticks": ""
             }
            },
            "type": "parcoords"
           }
          ],
          "scatter": [
           {
            "marker": {
             "colorbar": {
              "outlinewidth": 0,
              "ticks": ""
             }
            },
            "type": "scatter"
           }
          ],
          "scatter3d": [
           {
            "line": {
             "colorbar": {
              "outlinewidth": 0,
              "ticks": ""
             }
            },
            "marker": {
             "colorbar": {
              "outlinewidth": 0,
              "ticks": ""
             }
            },
            "type": "scatter3d"
           }
          ],
          "scattercarpet": [
           {
            "marker": {
             "colorbar": {
              "outlinewidth": 0,
              "ticks": ""
             }
            },
            "type": "scattercarpet"
           }
          ],
          "scattergeo": [
           {
            "marker": {
             "colorbar": {
              "outlinewidth": 0,
              "ticks": ""
             }
            },
            "type": "scattergeo"
           }
          ],
          "scattergl": [
           {
            "marker": {
             "colorbar": {
              "outlinewidth": 0,
              "ticks": ""
             }
            },
            "type": "scattergl"
           }
          ],
          "scattermapbox": [
           {
            "marker": {
             "colorbar": {
              "outlinewidth": 0,
              "ticks": ""
             }
            },
            "type": "scattermapbox"
           }
          ],
          "scatterpolar": [
           {
            "marker": {
             "colorbar": {
              "outlinewidth": 0,
              "ticks": ""
             }
            },
            "type": "scatterpolar"
           }
          ],
          "scatterpolargl": [
           {
            "marker": {
             "colorbar": {
              "outlinewidth": 0,
              "ticks": ""
             }
            },
            "type": "scatterpolargl"
           }
          ],
          "scatterternary": [
           {
            "marker": {
             "colorbar": {
              "outlinewidth": 0,
              "ticks": ""
             }
            },
            "type": "scatterternary"
           }
          ],
          "surface": [
           {
            "colorbar": {
             "outlinewidth": 0,
             "ticks": ""
            },
            "colorscale": [
             [
              0,
              "#0d0887"
             ],
             [
              0.1111111111111111,
              "#46039f"
             ],
             [
              0.2222222222222222,
              "#7201a8"
             ],
             [
              0.3333333333333333,
              "#9c179e"
             ],
             [
              0.4444444444444444,
              "#bd3786"
             ],
             [
              0.5555555555555556,
              "#d8576b"
             ],
             [
              0.6666666666666666,
              "#ed7953"
             ],
             [
              0.7777777777777778,
              "#fb9f3a"
             ],
             [
              0.8888888888888888,
              "#fdca26"
             ],
             [
              1,
              "#f0f921"
             ]
            ],
            "type": "surface"
           }
          ],
          "table": [
           {
            "cells": {
             "fill": {
              "color": "#EBF0F8"
             },
             "line": {
              "color": "white"
             }
            },
            "header": {
             "fill": {
              "color": "#C8D4E3"
             },
             "line": {
              "color": "white"
             }
            },
            "type": "table"
           }
          ]
         },
         "layout": {
          "annotationdefaults": {
           "arrowcolor": "#2a3f5f",
           "arrowhead": 0,
           "arrowwidth": 1
          },
          "colorscale": {
           "diverging": [
            [
             0,
             "#8e0152"
            ],
            [
             0.1,
             "#c51b7d"
            ],
            [
             0.2,
             "#de77ae"
            ],
            [
             0.3,
             "#f1b6da"
            ],
            [
             0.4,
             "#fde0ef"
            ],
            [
             0.5,
             "#f7f7f7"
            ],
            [
             0.6,
             "#e6f5d0"
            ],
            [
             0.7,
             "#b8e186"
            ],
            [
             0.8,
             "#7fbc41"
            ],
            [
             0.9,
             "#4d9221"
            ],
            [
             1,
             "#276419"
            ]
           ],
           "sequential": [
            [
             0,
             "#0d0887"
            ],
            [
             0.1111111111111111,
             "#46039f"
            ],
            [
             0.2222222222222222,
             "#7201a8"
            ],
            [
             0.3333333333333333,
             "#9c179e"
            ],
            [
             0.4444444444444444,
             "#bd3786"
            ],
            [
             0.5555555555555556,
             "#d8576b"
            ],
            [
             0.6666666666666666,
             "#ed7953"
            ],
            [
             0.7777777777777778,
             "#fb9f3a"
            ],
            [
             0.8888888888888888,
             "#fdca26"
            ],
            [
             1,
             "#f0f921"
            ]
           ],
           "sequentialminus": [
            [
             0,
             "#0d0887"
            ],
            [
             0.1111111111111111,
             "#46039f"
            ],
            [
             0.2222222222222222,
             "#7201a8"
            ],
            [
             0.3333333333333333,
             "#9c179e"
            ],
            [
             0.4444444444444444,
             "#bd3786"
            ],
            [
             0.5555555555555556,
             "#d8576b"
            ],
            [
             0.6666666666666666,
             "#ed7953"
            ],
            [
             0.7777777777777778,
             "#fb9f3a"
            ],
            [
             0.8888888888888888,
             "#fdca26"
            ],
            [
             1,
             "#f0f921"
            ]
           ]
          },
          "colorway": [
           "#636efa",
           "#EF553B",
           "#00cc96",
           "#ab63fa",
           "#FFA15A",
           "#19d3f3",
           "#FF6692",
           "#B6E880",
           "#FF97FF",
           "#FECB52"
          ],
          "font": {
           "color": "#2a3f5f"
          },
          "geo": {
           "bgcolor": "white",
           "lakecolor": "white",
           "landcolor": "#E5ECF6",
           "showlakes": true,
           "showland": true,
           "subunitcolor": "white"
          },
          "hoverlabel": {
           "align": "left"
          },
          "hovermode": "closest",
          "mapbox": {
           "style": "light"
          },
          "paper_bgcolor": "white",
          "plot_bgcolor": "#E5ECF6",
          "polar": {
           "angularaxis": {
            "gridcolor": "white",
            "linecolor": "white",
            "ticks": ""
           },
           "bgcolor": "#E5ECF6",
           "radialaxis": {
            "gridcolor": "white",
            "linecolor": "white",
            "ticks": ""
           }
          },
          "scene": {
           "xaxis": {
            "backgroundcolor": "#E5ECF6",
            "gridcolor": "white",
            "gridwidth": 2,
            "linecolor": "white",
            "showbackground": true,
            "ticks": "",
            "zerolinecolor": "white"
           },
           "yaxis": {
            "backgroundcolor": "#E5ECF6",
            "gridcolor": "white",
            "gridwidth": 2,
            "linecolor": "white",
            "showbackground": true,
            "ticks": "",
            "zerolinecolor": "white"
           },
           "zaxis": {
            "backgroundcolor": "#E5ECF6",
            "gridcolor": "white",
            "gridwidth": 2,
            "linecolor": "white",
            "showbackground": true,
            "ticks": "",
            "zerolinecolor": "white"
           }
          },
          "shapedefaults": {
           "line": {
            "color": "#2a3f5f"
           }
          },
          "ternary": {
           "aaxis": {
            "gridcolor": "white",
            "linecolor": "white",
            "ticks": ""
           },
           "baxis": {
            "gridcolor": "white",
            "linecolor": "white",
            "ticks": ""
           },
           "bgcolor": "#E5ECF6",
           "caxis": {
            "gridcolor": "white",
            "linecolor": "white",
            "ticks": ""
           }
          },
          "title": {
           "x": 0.05
          },
          "xaxis": {
           "automargin": true,
           "gridcolor": "white",
           "linecolor": "white",
           "ticks": "",
           "zerolinecolor": "white",
           "zerolinewidth": 2
          },
          "yaxis": {
           "automargin": true,
           "gridcolor": "white",
           "linecolor": "white",
           "ticks": "",
           "zerolinecolor": "white",
           "zerolinewidth": 2
          }
         }
        },
        "title": {
         "text": "Types of health service in different Wards of Bhaktapur"
        }
       }
      },
      "text/html": [
       "<div>\n",
       "        \n",
       "        \n",
       "            <div id=\"5e147488-c556-4934-886d-abff8b9de942\" class=\"plotly-graph-div\" style=\"height:525px; width:100%;\"></div>\n",
       "            <script type=\"text/javascript\">\n",
       "                require([\"plotly\"], function(Plotly) {\n",
       "                    window.PLOTLYENV=window.PLOTLYENV || {};\n",
       "                    \n",
       "                if (document.getElementById(\"5e147488-c556-4934-886d-abff8b9de942\")) {\n",
       "                    Plotly.newPlot(\n",
       "                        '5e147488-c556-4934-886d-abff8b9de942',\n",
       "                        [{\"labels\": [\"Nepalgunj\", \"ward 1\", \"ward 2\", \"ward 3\", \"ward 5\", \"ward 6\", \"ward 7\", \"ward 8\", \"ward 9\", \"ward 10\", \"ward 11\", \"ward 13\", \"ward 14\", \"ward 15\", \"ward 16\", \"ward 17\", \"ward 1 - Pharmacy\", \"ward 1 - Urban Health Centre\", \"ward 2 - Pharmacy\", \"ward 3 - Health Post\", \"ward 5 - PHC/ORC\", \"ward 5 - EPI\", \"ward 5 - Pharmacy\", \"ward 5 - Health Post\", \"ward 6 - PHC/ORC\", \"ward 6 - EPI\", \"ward 7 - Pharmacy\", \"ward 7 - Health Post\", \"ward 7 - EPI\", \"ward 7 - Private clinic\", \"ward 7 - Ayurbedic\", \"ward 8 - Private clinic\", \"ward 8 - Pharmacy\", \"ward 9 - PHC/ORC\", \"ward 9 - Pharmacy\", \"ward 10 - PHC/ORC\", \"ward 11 - PHC/ORC\", \"ward 11 - Pharmacy\", \"ward 11 - Community Hospital\", \"ward 13 - Pharmacy\", \"ward 13 - Private clinic\", \"ward 13 - Ayurbedic\", \"ward 14 - Pharmacy\", \"ward 14 - Private Hospital\", \"ward 14 - EPI\", \"ward 14 - Health Post\", \"ward 15 - Pharmacy\", \"ward 15 - Private clinic\", \"ward 15 - Private Hospital\", \"ward 15 - Ayurbedic\", \"ward 16 - Pharmacy\", \"ward 16 - Private clinic\", \"ward 16 - PHC/ORC\", \"ward 16 - Ayurbedic\", \"ward 16 - EPI\", \"ward 16 - Health Post\", \"ward 16 - Private Hospital\", \"ward 17 - Pharmacy\", \"ward 17 - PHC/ORC\", \"ward 17 - EPI\"], \"marker\": {\"line\": {\"width\": 2}}, \"outsidetextfont\": {\"color\": \"#377eb8\", \"size\": 20}, \"parents\": [\"\", \"Nepalgunj\", \"Nepalgunj\", \"Nepalgunj\", \"Nepalgunj\", \"Nepalgunj\", \"Nepalgunj\", \"Nepalgunj\", \"Nepalgunj\", \"Nepalgunj\", \"Nepalgunj\", \"Nepalgunj\", \"Nepalgunj\", \"Nepalgunj\", \"Nepalgunj\", \"Nepalgunj\", \"ward 1\", \"ward 1\", \"ward 2\", \"ward 3\", \"ward 5\", \"ward 5\", \"ward 5\", \"ward 5\", \"ward 6\", \"ward 6\", \"ward 7\", \"ward 7\", \"ward 7\", \"ward 7\", \"ward 7\", \"ward 8\", \"ward 8\", \"ward 9\", \"ward 9\", \"ward 10\", \"ward 11\", \"ward 11\", \"ward 11\", \"ward 13\", \"ward 13\", \"ward 13\", \"ward 14\", \"ward 14\", \"ward 14\", \"ward 14\", \"ward 15\", \"ward 15\", \"ward 15\", \"ward 15\", \"ward 16\", \"ward 16\", \"ward 16\", \"ward 16\", \"ward 16\", \"ward 16\", \"ward 16\", \"ward 17\", \"ward 17\", \"ward 17\"], \"type\": \"sunburst\", \"values\": [108, 5, 1, 1, 5, 2, 9, 2, 2, 1, 3, 15, 7, 27, 24, 4, 3, 1, 1, 1, 1, 1, 1, 1, 1, 1, 5, 1, 1, 1, 1, 1, 1, 1, 1, 1, 1, 1, 1, 6, 5, 2, 4, 1, 1, 1, 16, 7, 1, 1, 9, 4, 2, 2, 2, 1, 1, 2, 1, 1]}],\n",
       "                        {\"margin\": {\"b\": 0, \"l\": 0, \"r\": 0, \"t\": 0}, \"template\": {\"data\": {\"bar\": [{\"error_x\": {\"color\": \"#2a3f5f\"}, \"error_y\": {\"color\": \"#2a3f5f\"}, \"marker\": {\"line\": {\"color\": \"#E5ECF6\", \"width\": 0.5}}, \"type\": \"bar\"}], \"barpolar\": [{\"marker\": {\"line\": {\"color\": \"#E5ECF6\", \"width\": 0.5}}, \"type\": \"barpolar\"}], \"carpet\": [{\"aaxis\": {\"endlinecolor\": \"#2a3f5f\", \"gridcolor\": \"white\", \"linecolor\": \"white\", \"minorgridcolor\": \"white\", \"startlinecolor\": \"#2a3f5f\"}, \"baxis\": {\"endlinecolor\": \"#2a3f5f\", \"gridcolor\": \"white\", \"linecolor\": \"white\", \"minorgridcolor\": \"white\", \"startlinecolor\": \"#2a3f5f\"}, \"type\": \"carpet\"}], \"choropleth\": [{\"colorbar\": {\"outlinewidth\": 0, \"ticks\": \"\"}, \"type\": \"choropleth\"}], \"contour\": [{\"colorbar\": {\"outlinewidth\": 0, \"ticks\": \"\"}, \"colorscale\": [[0.0, \"#0d0887\"], [0.1111111111111111, \"#46039f\"], [0.2222222222222222, \"#7201a8\"], [0.3333333333333333, \"#9c179e\"], [0.4444444444444444, \"#bd3786\"], [0.5555555555555556, \"#d8576b\"], [0.6666666666666666, \"#ed7953\"], [0.7777777777777778, \"#fb9f3a\"], [0.8888888888888888, \"#fdca26\"], [1.0, \"#f0f921\"]], \"type\": \"contour\"}], \"contourcarpet\": [{\"colorbar\": {\"outlinewidth\": 0, \"ticks\": \"\"}, \"type\": \"contourcarpet\"}], \"heatmap\": [{\"colorbar\": {\"outlinewidth\": 0, \"ticks\": \"\"}, \"colorscale\": [[0.0, \"#0d0887\"], [0.1111111111111111, \"#46039f\"], [0.2222222222222222, \"#7201a8\"], [0.3333333333333333, \"#9c179e\"], [0.4444444444444444, \"#bd3786\"], [0.5555555555555556, \"#d8576b\"], [0.6666666666666666, \"#ed7953\"], [0.7777777777777778, \"#fb9f3a\"], [0.8888888888888888, \"#fdca26\"], [1.0, \"#f0f921\"]], \"type\": \"heatmap\"}], \"heatmapgl\": [{\"colorbar\": {\"outlinewidth\": 0, \"ticks\": \"\"}, \"colorscale\": [[0.0, \"#0d0887\"], [0.1111111111111111, \"#46039f\"], [0.2222222222222222, \"#7201a8\"], [0.3333333333333333, \"#9c179e\"], [0.4444444444444444, \"#bd3786\"], [0.5555555555555556, \"#d8576b\"], [0.6666666666666666, \"#ed7953\"], [0.7777777777777778, \"#fb9f3a\"], [0.8888888888888888, \"#fdca26\"], [1.0, \"#f0f921\"]], \"type\": \"heatmapgl\"}], \"histogram\": [{\"marker\": {\"colorbar\": {\"outlinewidth\": 0, \"ticks\": \"\"}}, \"type\": \"histogram\"}], \"histogram2d\": [{\"colorbar\": {\"outlinewidth\": 0, \"ticks\": \"\"}, \"colorscale\": [[0.0, \"#0d0887\"], [0.1111111111111111, \"#46039f\"], [0.2222222222222222, \"#7201a8\"], [0.3333333333333333, \"#9c179e\"], [0.4444444444444444, \"#bd3786\"], [0.5555555555555556, \"#d8576b\"], [0.6666666666666666, \"#ed7953\"], [0.7777777777777778, \"#fb9f3a\"], [0.8888888888888888, \"#fdca26\"], [1.0, \"#f0f921\"]], \"type\": \"histogram2d\"}], \"histogram2dcontour\": [{\"colorbar\": {\"outlinewidth\": 0, \"ticks\": \"\"}, \"colorscale\": [[0.0, \"#0d0887\"], [0.1111111111111111, \"#46039f\"], [0.2222222222222222, \"#7201a8\"], [0.3333333333333333, \"#9c179e\"], [0.4444444444444444, \"#bd3786\"], [0.5555555555555556, \"#d8576b\"], [0.6666666666666666, \"#ed7953\"], [0.7777777777777778, \"#fb9f3a\"], [0.8888888888888888, \"#fdca26\"], [1.0, \"#f0f921\"]], \"type\": \"histogram2dcontour\"}], \"mesh3d\": [{\"colorbar\": {\"outlinewidth\": 0, \"ticks\": \"\"}, \"type\": \"mesh3d\"}], \"parcoords\": [{\"line\": {\"colorbar\": {\"outlinewidth\": 0, \"ticks\": \"\"}}, \"type\": \"parcoords\"}], \"scatter\": [{\"marker\": {\"colorbar\": {\"outlinewidth\": 0, \"ticks\": \"\"}}, \"type\": \"scatter\"}], \"scatter3d\": [{\"line\": {\"colorbar\": {\"outlinewidth\": 0, \"ticks\": \"\"}}, \"marker\": {\"colorbar\": {\"outlinewidth\": 0, \"ticks\": \"\"}}, \"type\": \"scatter3d\"}], \"scattercarpet\": [{\"marker\": {\"colorbar\": {\"outlinewidth\": 0, \"ticks\": \"\"}}, \"type\": \"scattercarpet\"}], \"scattergeo\": [{\"marker\": {\"colorbar\": {\"outlinewidth\": 0, \"ticks\": \"\"}}, \"type\": \"scattergeo\"}], \"scattergl\": [{\"marker\": {\"colorbar\": {\"outlinewidth\": 0, \"ticks\": \"\"}}, \"type\": \"scattergl\"}], \"scattermapbox\": [{\"marker\": {\"colorbar\": {\"outlinewidth\": 0, \"ticks\": \"\"}}, \"type\": \"scattermapbox\"}], \"scatterpolar\": [{\"marker\": {\"colorbar\": {\"outlinewidth\": 0, \"ticks\": \"\"}}, \"type\": \"scatterpolar\"}], \"scatterpolargl\": [{\"marker\": {\"colorbar\": {\"outlinewidth\": 0, \"ticks\": \"\"}}, \"type\": \"scatterpolargl\"}], \"scatterternary\": [{\"marker\": {\"colorbar\": {\"outlinewidth\": 0, \"ticks\": \"\"}}, \"type\": \"scatterternary\"}], \"surface\": [{\"colorbar\": {\"outlinewidth\": 0, \"ticks\": \"\"}, \"colorscale\": [[0.0, \"#0d0887\"], [0.1111111111111111, \"#46039f\"], [0.2222222222222222, \"#7201a8\"], [0.3333333333333333, \"#9c179e\"], [0.4444444444444444, \"#bd3786\"], [0.5555555555555556, \"#d8576b\"], [0.6666666666666666, \"#ed7953\"], [0.7777777777777778, \"#fb9f3a\"], [0.8888888888888888, \"#fdca26\"], [1.0, \"#f0f921\"]], \"type\": \"surface\"}], \"table\": [{\"cells\": {\"fill\": {\"color\": \"#EBF0F8\"}, \"line\": {\"color\": \"white\"}}, \"header\": {\"fill\": {\"color\": \"#C8D4E3\"}, \"line\": {\"color\": \"white\"}}, \"type\": \"table\"}]}, \"layout\": {\"annotationdefaults\": {\"arrowcolor\": \"#2a3f5f\", \"arrowhead\": 0, \"arrowwidth\": 1}, \"colorscale\": {\"diverging\": [[0, \"#8e0152\"], [0.1, \"#c51b7d\"], [0.2, \"#de77ae\"], [0.3, \"#f1b6da\"], [0.4, \"#fde0ef\"], [0.5, \"#f7f7f7\"], [0.6, \"#e6f5d0\"], [0.7, \"#b8e186\"], [0.8, \"#7fbc41\"], [0.9, \"#4d9221\"], [1, \"#276419\"]], \"sequential\": [[0.0, \"#0d0887\"], [0.1111111111111111, \"#46039f\"], [0.2222222222222222, \"#7201a8\"], [0.3333333333333333, \"#9c179e\"], [0.4444444444444444, \"#bd3786\"], [0.5555555555555556, \"#d8576b\"], [0.6666666666666666, \"#ed7953\"], [0.7777777777777778, \"#fb9f3a\"], [0.8888888888888888, \"#fdca26\"], [1.0, \"#f0f921\"]], \"sequentialminus\": [[0.0, \"#0d0887\"], [0.1111111111111111, \"#46039f\"], [0.2222222222222222, \"#7201a8\"], [0.3333333333333333, \"#9c179e\"], [0.4444444444444444, \"#bd3786\"], [0.5555555555555556, \"#d8576b\"], [0.6666666666666666, \"#ed7953\"], [0.7777777777777778, \"#fb9f3a\"], [0.8888888888888888, \"#fdca26\"], [1.0, \"#f0f921\"]]}, \"colorway\": [\"#636efa\", \"#EF553B\", \"#00cc96\", \"#ab63fa\", \"#FFA15A\", \"#19d3f3\", \"#FF6692\", \"#B6E880\", \"#FF97FF\", \"#FECB52\"], \"font\": {\"color\": \"#2a3f5f\"}, \"geo\": {\"bgcolor\": \"white\", \"lakecolor\": \"white\", \"landcolor\": \"#E5ECF6\", \"showlakes\": true, \"showland\": true, \"subunitcolor\": \"white\"}, \"hoverlabel\": {\"align\": \"left\"}, \"hovermode\": \"closest\", \"mapbox\": {\"style\": \"light\"}, \"paper_bgcolor\": \"white\", \"plot_bgcolor\": \"#E5ECF6\", \"polar\": {\"angularaxis\": {\"gridcolor\": \"white\", \"linecolor\": \"white\", \"ticks\": \"\"}, \"bgcolor\": \"#E5ECF6\", \"radialaxis\": {\"gridcolor\": \"white\", \"linecolor\": \"white\", \"ticks\": \"\"}}, \"scene\": {\"xaxis\": {\"backgroundcolor\": \"#E5ECF6\", \"gridcolor\": \"white\", \"gridwidth\": 2, \"linecolor\": \"white\", \"showbackground\": true, \"ticks\": \"\", \"zerolinecolor\": \"white\"}, \"yaxis\": {\"backgroundcolor\": \"#E5ECF6\", \"gridcolor\": \"white\", \"gridwidth\": 2, \"linecolor\": \"white\", \"showbackground\": true, \"ticks\": \"\", \"zerolinecolor\": \"white\"}, \"zaxis\": {\"backgroundcolor\": \"#E5ECF6\", \"gridcolor\": \"white\", \"gridwidth\": 2, \"linecolor\": \"white\", \"showbackground\": true, \"ticks\": \"\", \"zerolinecolor\": \"white\"}}, \"shapedefaults\": {\"line\": {\"color\": \"#2a3f5f\"}}, \"ternary\": {\"aaxis\": {\"gridcolor\": \"white\", \"linecolor\": \"white\", \"ticks\": \"\"}, \"baxis\": {\"gridcolor\": \"white\", \"linecolor\": \"white\", \"ticks\": \"\"}, \"bgcolor\": \"#E5ECF6\", \"caxis\": {\"gridcolor\": \"white\", \"linecolor\": \"white\", \"ticks\": \"\"}}, \"title\": {\"x\": 0.05}, \"xaxis\": {\"automargin\": true, \"gridcolor\": \"white\", \"linecolor\": \"white\", \"ticks\": \"\", \"zerolinecolor\": \"white\", \"zerolinewidth\": 2}, \"yaxis\": {\"automargin\": true, \"gridcolor\": \"white\", \"linecolor\": \"white\", \"ticks\": \"\", \"zerolinecolor\": \"white\", \"zerolinewidth\": 2}}}, \"title\": {\"text\": \"Types of health service in different Wards of Bhaktapur\"}},\n",
       "                        {\"responsive\": true}\n",
       "                    ).then(function(){\n",
       "                            \n",
       "var gd = document.getElementById('5e147488-c556-4934-886d-abff8b9de942');\n",
       "var x = new MutationObserver(function (mutations, observer) {{\n",
       "        var display = window.getComputedStyle(gd).display;\n",
       "        if (!display || display === 'none') {{\n",
       "            console.log([gd, 'removed!']);\n",
       "            Plotly.purge(gd);\n",
       "            observer.disconnect();\n",
       "        }}\n",
       "}});\n",
       "\n",
       "// Listen for the removal of the full notebook cells\n",
       "var notebookContainer = gd.closest('#notebook-container');\n",
       "if (notebookContainer) {{\n",
       "    x.observe(notebookContainer, {childList: true});\n",
       "}}\n",
       "\n",
       "// Listen for the clearing of the current output cell\n",
       "var outputEl = gd.closest('.output');\n",
       "if (outputEl) {{\n",
       "    x.observe(outputEl, {childList: true});\n",
       "}}\n",
       "\n",
       "                        })\n",
       "                };\n",
       "                });\n",
       "            </script>\n",
       "        </div>"
      ]
     },
     "metadata": {},
     "output_type": "display_data"
    }
   ],
   "source": [
    "trace = go.Sunburst(\n",
    "    labels=labels,\n",
    "    parents=parents,\n",
    "    values=values,\n",
    "    outsidetextfont = {\"size\": 20, \"color\": \"#377eb8\"},\n",
    "    marker = {\"line\": {\"width\": 2}},\n",
    ")\n",
    "\n",
    "layout = go.Layout(\n",
    "    title = \"Types of health service in different Wards of Bhaktapur\",\n",
    "    margin = go.layout.Margin(t=0, l=0, r=0, b=0)\n",
    ")\n",
    "\n",
    "py.iplot(go.Figure([trace], layout), filename='basic_sunburst_chart')"
   ]
  },
  {
   "cell_type": "markdown",
   "metadata": {},
   "source": [
    "## In Nepalgunj (Banke)"
   ]
  },
  {
   "cell_type": "code",
   "execution_count": 28,
   "metadata": {},
   "outputs": [],
   "source": [
    "df = pd.read_csv(\"kaushal.csv\")"
   ]
  },
  {
   "cell_type": "code",
   "execution_count": 29,
   "metadata": {},
   "outputs": [],
   "source": [
    "df = df[df[\"Name of Municipalities?\"]==\"Nepalgunj (Banke)\"]"
   ]
  },
  {
   "cell_type": "code",
   "execution_count": 30,
   "metadata": {},
   "outputs": [],
   "source": [
    "df = df[[\"Ward No\",\"Type of Health facility\"]]\n",
    "df[\"Ward No\"] = df[\"Ward No\"].astype(int)"
   ]
  },
  {
   "cell_type": "code",
   "execution_count": 31,
   "metadata": {},
   "outputs": [],
   "source": [
    "dff = df.groupby([\"Ward No\"])[\"Type of Health facility\"]\n",
    "labels = []\n",
    "parents = []\n",
    "values = []\n",
    "for i, d in dff:\n",
    "    labels.append(f\"ward {i}\")\n",
    "    values.append(int(len(d)))\n",
    "    parents.append(\"Nepalgunj\")\n",
    "\n",
    "for i, d in dff:\n",
    "    a = d.value_counts().astype(int)\n",
    "    for t in a.index:\n",
    "        labels.append(f\"ward {i} - {t}\")\n",
    "        parents.append(f\"ward {i}\")\n",
    "    for t in a.values:\n",
    "        values.append(int(t))\n",
    "\n",
    "parents.insert(0, \"\")\n",
    "labels.insert(0, \"Nepalgunj\")\n",
    "values.insert(0, len(df))"
   ]
  },
  {
   "cell_type": "code",
   "execution_count": 32,
   "metadata": {},
   "outputs": [
    {
     "data": {
      "application/vnd.plotly.v1+json": {
       "config": {
        "linkText": "Export to plot.ly",
        "plotlyServerURL": "https://plot.ly",
        "showLink": false
       },
       "data": [
        {
         "labels": [
          "Nepalgunj",
          "ward 1",
          "ward 2",
          "ward 3",
          "ward 4",
          "ward 5",
          "ward 6",
          "ward 7",
          "ward 8",
          "ward 9",
          "ward 11",
          "ward 12",
          "ward 13",
          "ward 14",
          "ward 15",
          "ward 16",
          "ward 17",
          "ward 18",
          "ward 19",
          "ward 20",
          "ward 22",
          "ward 23",
          "ward 24",
          "ward 25",
          "ward 26",
          "ward 27",
          "ward 28",
          "ward 1 - Private clinic",
          "ward 1 - EPI",
          "ward 1 - Urban Health Centre",
          "ward 1 - PHC/ORC",
          "ward 1 - Pharmacy",
          "ward 1 - Ayurbedic",
          "ward 2 - EPI",
          "ward 2 - PHC/ORC",
          "ward 2 - Pharmacy",
          "ward 3 - PHC/ORC",
          "ward 3 - EPI",
          "ward 3 - Urban Health Centre",
          "ward 4 - EPI",
          "ward 4 - Pharmacy",
          "ward 4 - PHC/ORC",
          "ward 4 - Private clinic",
          "ward 5 - EPI",
          "ward 5 - Private clinic",
          "ward 5 - Urban Health Centre",
          "ward 5 - PHC/ORC",
          "ward 5 - Ayurbedic",
          "ward 6 - PHC/ORC",
          "ward 6 - EPI",
          "ward 6 - Health Post",
          "ward 6 - Private clinic",
          "ward 6 - Ayurbedic",
          "ward 7 - Private clinic",
          "ward 7 - EPI",
          "ward 7 - Pharmacy",
          "ward 7 - PHC/ORC",
          "ward 7 - Urban Health Centre",
          "ward 8 - EPI",
          "ward 8 - Health Post",
          "ward 9 - PHC/ORC",
          "ward 9 - Private clinic",
          "ward 9 - EPI",
          "ward 11 - Urban Health Centre",
          "ward 11 - EPI",
          "ward 11 - Ayurbedic",
          "ward 12 - EPI",
          "ward 12 - Pharmacy",
          "ward 12 - Private Hospital",
          "ward 13 - Private clinic",
          "ward 13 - Pharmacy",
          "ward 13 - Private Hospital",
          "ward 13 - Urban Health Centre",
          "ward 13 - Government Hospital",
          "ward 14 - Pharmacy",
          "ward 14 - Private Hospital",
          "ward 14 - Private clinic",
          "ward 15 - Pharmacy",
          "ward 15 - Private clinic",
          "ward 16 - Pharmacy",
          "ward 16 - EPI",
          "ward 16 - Private Hospital",
          "ward 16 - Private clinic",
          "ward 16 - Health Post",
          "ward 17 - Private clinic",
          "ward 17 - EPI",
          "ward 17 - Pharmacy",
          "ward 18 - EPI",
          "ward 18 - PHC/ORC",
          "ward 18 - Health Post",
          "ward 19 - EPI",
          "ward 19 - PHC/ORC",
          "ward 19 - Health Post",
          "ward 20 - EPI",
          "ward 20 - PHC/ORC",
          "ward 20 - Health Post",
          "ward 22 - Health Post",
          "ward 22 - EPI",
          "ward 23 - Private clinic",
          "ward 24 - EPI",
          "ward 24 - Private clinic",
          "ward 24 - PHC/ORC",
          "ward 24 - Health Post",
          "ward 25 - Health Post",
          "ward 26 - EPI",
          "ward 26 - PHC/ORC",
          "ward 26 - Pharmacy",
          "ward 26 - Private clinic",
          "ward 26 - Health Post",
          "ward 27 - EPI",
          "ward 27 - PHC/ORC",
          "ward 27 - Health Post",
          "ward 28 - EPI",
          "ward 28 - PHC/ORC",
          "ward 28 - Health Post"
         ],
         "marker": {
          "line": {
           "width": 2
          }
         },
         "outsidetextfont": {
          "color": "#377eb8",
          "size": 20
         },
         "parents": [
          "",
          "Nepalgunj",
          "Nepalgunj",
          "Nepalgunj",
          "Nepalgunj",
          "Nepalgunj",
          "Nepalgunj",
          "Nepalgunj",
          "Nepalgunj",
          "Nepalgunj",
          "Nepalgunj",
          "Nepalgunj",
          "Nepalgunj",
          "Nepalgunj",
          "Nepalgunj",
          "Nepalgunj",
          "Nepalgunj",
          "Nepalgunj",
          "Nepalgunj",
          "Nepalgunj",
          "Nepalgunj",
          "Nepalgunj",
          "Nepalgunj",
          "Nepalgunj",
          "Nepalgunj",
          "Nepalgunj",
          "Nepalgunj",
          "ward 1",
          "ward 1",
          "ward 1",
          "ward 1",
          "ward 1",
          "ward 1",
          "ward 2",
          "ward 2",
          "ward 2",
          "ward 3",
          "ward 3",
          "ward 3",
          "ward 4",
          "ward 4",
          "ward 4",
          "ward 4",
          "ward 5",
          "ward 5",
          "ward 5",
          "ward 5",
          "ward 5",
          "ward 6",
          "ward 6",
          "ward 6",
          "ward 6",
          "ward 6",
          "ward 7",
          "ward 7",
          "ward 7",
          "ward 7",
          "ward 7",
          "ward 8",
          "ward 8",
          "ward 9",
          "ward 9",
          "ward 9",
          "ward 11",
          "ward 11",
          "ward 11",
          "ward 12",
          "ward 12",
          "ward 12",
          "ward 13",
          "ward 13",
          "ward 13",
          "ward 13",
          "ward 13",
          "ward 14",
          "ward 14",
          "ward 14",
          "ward 15",
          "ward 15",
          "ward 16",
          "ward 16",
          "ward 16",
          "ward 16",
          "ward 16",
          "ward 17",
          "ward 17",
          "ward 17",
          "ward 18",
          "ward 18",
          "ward 18",
          "ward 19",
          "ward 19",
          "ward 19",
          "ward 20",
          "ward 20",
          "ward 20",
          "ward 22",
          "ward 22",
          "ward 23",
          "ward 24",
          "ward 24",
          "ward 24",
          "ward 24",
          "ward 25",
          "ward 26",
          "ward 26",
          "ward 26",
          "ward 26",
          "ward 26",
          "ward 27",
          "ward 27",
          "ward 27",
          "ward 28",
          "ward 28",
          "ward 28"
         ],
         "type": "sunburst",
         "values": [
          227,
          11,
          9,
          9,
          7,
          12,
          9,
          11,
          5,
          3,
          3,
          3,
          36,
          15,
          8,
          10,
          8,
          5,
          9,
          7,
          2,
          1,
          10,
          1,
          13,
          12,
          8,
          4,
          3,
          1,
          1,
          1,
          1,
          5,
          3,
          1,
          4,
          4,
          1,
          3,
          2,
          1,
          1,
          4,
          4,
          1,
          1,
          1,
          3,
          3,
          1,
          1,
          1,
          3,
          2,
          2,
          1,
          1,
          4,
          1,
          1,
          1,
          1,
          1,
          1,
          1,
          1,
          1,
          1,
          19,
          6,
          4,
          1,
          1,
          12,
          2,
          1,
          5,
          2,
          6,
          1,
          1,
          1,
          1,
          4,
          1,
          1,
          2,
          1,
          1,
          5,
          3,
          1,
          4,
          2,
          1,
          1,
          1,
          1,
          4,
          3,
          1,
          1,
          1,
          5,
          4,
          2,
          1,
          1,
          7,
          4,
          1,
          4,
          3,
          1
         ]
        }
       ],
       "layout": {
        "margin": {
         "b": 0,
         "l": 0,
         "r": 0,
         "t": 0
        },
        "template": {
         "data": {
          "bar": [
           {
            "error_x": {
             "color": "#2a3f5f"
            },
            "error_y": {
             "color": "#2a3f5f"
            },
            "marker": {
             "line": {
              "color": "#E5ECF6",
              "width": 0.5
             }
            },
            "type": "bar"
           }
          ],
          "barpolar": [
           {
            "marker": {
             "line": {
              "color": "#E5ECF6",
              "width": 0.5
             }
            },
            "type": "barpolar"
           }
          ],
          "carpet": [
           {
            "aaxis": {
             "endlinecolor": "#2a3f5f",
             "gridcolor": "white",
             "linecolor": "white",
             "minorgridcolor": "white",
             "startlinecolor": "#2a3f5f"
            },
            "baxis": {
             "endlinecolor": "#2a3f5f",
             "gridcolor": "white",
             "linecolor": "white",
             "minorgridcolor": "white",
             "startlinecolor": "#2a3f5f"
            },
            "type": "carpet"
           }
          ],
          "choropleth": [
           {
            "colorbar": {
             "outlinewidth": 0,
             "ticks": ""
            },
            "type": "choropleth"
           }
          ],
          "contour": [
           {
            "colorbar": {
             "outlinewidth": 0,
             "ticks": ""
            },
            "colorscale": [
             [
              0,
              "#0d0887"
             ],
             [
              0.1111111111111111,
              "#46039f"
             ],
             [
              0.2222222222222222,
              "#7201a8"
             ],
             [
              0.3333333333333333,
              "#9c179e"
             ],
             [
              0.4444444444444444,
              "#bd3786"
             ],
             [
              0.5555555555555556,
              "#d8576b"
             ],
             [
              0.6666666666666666,
              "#ed7953"
             ],
             [
              0.7777777777777778,
              "#fb9f3a"
             ],
             [
              0.8888888888888888,
              "#fdca26"
             ],
             [
              1,
              "#f0f921"
             ]
            ],
            "type": "contour"
           }
          ],
          "contourcarpet": [
           {
            "colorbar": {
             "outlinewidth": 0,
             "ticks": ""
            },
            "type": "contourcarpet"
           }
          ],
          "heatmap": [
           {
            "colorbar": {
             "outlinewidth": 0,
             "ticks": ""
            },
            "colorscale": [
             [
              0,
              "#0d0887"
             ],
             [
              0.1111111111111111,
              "#46039f"
             ],
             [
              0.2222222222222222,
              "#7201a8"
             ],
             [
              0.3333333333333333,
              "#9c179e"
             ],
             [
              0.4444444444444444,
              "#bd3786"
             ],
             [
              0.5555555555555556,
              "#d8576b"
             ],
             [
              0.6666666666666666,
              "#ed7953"
             ],
             [
              0.7777777777777778,
              "#fb9f3a"
             ],
             [
              0.8888888888888888,
              "#fdca26"
             ],
             [
              1,
              "#f0f921"
             ]
            ],
            "type": "heatmap"
           }
          ],
          "heatmapgl": [
           {
            "colorbar": {
             "outlinewidth": 0,
             "ticks": ""
            },
            "colorscale": [
             [
              0,
              "#0d0887"
             ],
             [
              0.1111111111111111,
              "#46039f"
             ],
             [
              0.2222222222222222,
              "#7201a8"
             ],
             [
              0.3333333333333333,
              "#9c179e"
             ],
             [
              0.4444444444444444,
              "#bd3786"
             ],
             [
              0.5555555555555556,
              "#d8576b"
             ],
             [
              0.6666666666666666,
              "#ed7953"
             ],
             [
              0.7777777777777778,
              "#fb9f3a"
             ],
             [
              0.8888888888888888,
              "#fdca26"
             ],
             [
              1,
              "#f0f921"
             ]
            ],
            "type": "heatmapgl"
           }
          ],
          "histogram": [
           {
            "marker": {
             "colorbar": {
              "outlinewidth": 0,
              "ticks": ""
             }
            },
            "type": "histogram"
           }
          ],
          "histogram2d": [
           {
            "colorbar": {
             "outlinewidth": 0,
             "ticks": ""
            },
            "colorscale": [
             [
              0,
              "#0d0887"
             ],
             [
              0.1111111111111111,
              "#46039f"
             ],
             [
              0.2222222222222222,
              "#7201a8"
             ],
             [
              0.3333333333333333,
              "#9c179e"
             ],
             [
              0.4444444444444444,
              "#bd3786"
             ],
             [
              0.5555555555555556,
              "#d8576b"
             ],
             [
              0.6666666666666666,
              "#ed7953"
             ],
             [
              0.7777777777777778,
              "#fb9f3a"
             ],
             [
              0.8888888888888888,
              "#fdca26"
             ],
             [
              1,
              "#f0f921"
             ]
            ],
            "type": "histogram2d"
           }
          ],
          "histogram2dcontour": [
           {
            "colorbar": {
             "outlinewidth": 0,
             "ticks": ""
            },
            "colorscale": [
             [
              0,
              "#0d0887"
             ],
             [
              0.1111111111111111,
              "#46039f"
             ],
             [
              0.2222222222222222,
              "#7201a8"
             ],
             [
              0.3333333333333333,
              "#9c179e"
             ],
             [
              0.4444444444444444,
              "#bd3786"
             ],
             [
              0.5555555555555556,
              "#d8576b"
             ],
             [
              0.6666666666666666,
              "#ed7953"
             ],
             [
              0.7777777777777778,
              "#fb9f3a"
             ],
             [
              0.8888888888888888,
              "#fdca26"
             ],
             [
              1,
              "#f0f921"
             ]
            ],
            "type": "histogram2dcontour"
           }
          ],
          "mesh3d": [
           {
            "colorbar": {
             "outlinewidth": 0,
             "ticks": ""
            },
            "type": "mesh3d"
           }
          ],
          "parcoords": [
           {
            "line": {
             "colorbar": {
              "outlinewidth": 0,
              "ticks": ""
             }
            },
            "type": "parcoords"
           }
          ],
          "scatter": [
           {
            "marker": {
             "colorbar": {
              "outlinewidth": 0,
              "ticks": ""
             }
            },
            "type": "scatter"
           }
          ],
          "scatter3d": [
           {
            "line": {
             "colorbar": {
              "outlinewidth": 0,
              "ticks": ""
             }
            },
            "marker": {
             "colorbar": {
              "outlinewidth": 0,
              "ticks": ""
             }
            },
            "type": "scatter3d"
           }
          ],
          "scattercarpet": [
           {
            "marker": {
             "colorbar": {
              "outlinewidth": 0,
              "ticks": ""
             }
            },
            "type": "scattercarpet"
           }
          ],
          "scattergeo": [
           {
            "marker": {
             "colorbar": {
              "outlinewidth": 0,
              "ticks": ""
             }
            },
            "type": "scattergeo"
           }
          ],
          "scattergl": [
           {
            "marker": {
             "colorbar": {
              "outlinewidth": 0,
              "ticks": ""
             }
            },
            "type": "scattergl"
           }
          ],
          "scattermapbox": [
           {
            "marker": {
             "colorbar": {
              "outlinewidth": 0,
              "ticks": ""
             }
            },
            "type": "scattermapbox"
           }
          ],
          "scatterpolar": [
           {
            "marker": {
             "colorbar": {
              "outlinewidth": 0,
              "ticks": ""
             }
            },
            "type": "scatterpolar"
           }
          ],
          "scatterpolargl": [
           {
            "marker": {
             "colorbar": {
              "outlinewidth": 0,
              "ticks": ""
             }
            },
            "type": "scatterpolargl"
           }
          ],
          "scatterternary": [
           {
            "marker": {
             "colorbar": {
              "outlinewidth": 0,
              "ticks": ""
             }
            },
            "type": "scatterternary"
           }
          ],
          "surface": [
           {
            "colorbar": {
             "outlinewidth": 0,
             "ticks": ""
            },
            "colorscale": [
             [
              0,
              "#0d0887"
             ],
             [
              0.1111111111111111,
              "#46039f"
             ],
             [
              0.2222222222222222,
              "#7201a8"
             ],
             [
              0.3333333333333333,
              "#9c179e"
             ],
             [
              0.4444444444444444,
              "#bd3786"
             ],
             [
              0.5555555555555556,
              "#d8576b"
             ],
             [
              0.6666666666666666,
              "#ed7953"
             ],
             [
              0.7777777777777778,
              "#fb9f3a"
             ],
             [
              0.8888888888888888,
              "#fdca26"
             ],
             [
              1,
              "#f0f921"
             ]
            ],
            "type": "surface"
           }
          ],
          "table": [
           {
            "cells": {
             "fill": {
              "color": "#EBF0F8"
             },
             "line": {
              "color": "white"
             }
            },
            "header": {
             "fill": {
              "color": "#C8D4E3"
             },
             "line": {
              "color": "white"
             }
            },
            "type": "table"
           }
          ]
         },
         "layout": {
          "annotationdefaults": {
           "arrowcolor": "#2a3f5f",
           "arrowhead": 0,
           "arrowwidth": 1
          },
          "colorscale": {
           "diverging": [
            [
             0,
             "#8e0152"
            ],
            [
             0.1,
             "#c51b7d"
            ],
            [
             0.2,
             "#de77ae"
            ],
            [
             0.3,
             "#f1b6da"
            ],
            [
             0.4,
             "#fde0ef"
            ],
            [
             0.5,
             "#f7f7f7"
            ],
            [
             0.6,
             "#e6f5d0"
            ],
            [
             0.7,
             "#b8e186"
            ],
            [
             0.8,
             "#7fbc41"
            ],
            [
             0.9,
             "#4d9221"
            ],
            [
             1,
             "#276419"
            ]
           ],
           "sequential": [
            [
             0,
             "#0d0887"
            ],
            [
             0.1111111111111111,
             "#46039f"
            ],
            [
             0.2222222222222222,
             "#7201a8"
            ],
            [
             0.3333333333333333,
             "#9c179e"
            ],
            [
             0.4444444444444444,
             "#bd3786"
            ],
            [
             0.5555555555555556,
             "#d8576b"
            ],
            [
             0.6666666666666666,
             "#ed7953"
            ],
            [
             0.7777777777777778,
             "#fb9f3a"
            ],
            [
             0.8888888888888888,
             "#fdca26"
            ],
            [
             1,
             "#f0f921"
            ]
           ],
           "sequentialminus": [
            [
             0,
             "#0d0887"
            ],
            [
             0.1111111111111111,
             "#46039f"
            ],
            [
             0.2222222222222222,
             "#7201a8"
            ],
            [
             0.3333333333333333,
             "#9c179e"
            ],
            [
             0.4444444444444444,
             "#bd3786"
            ],
            [
             0.5555555555555556,
             "#d8576b"
            ],
            [
             0.6666666666666666,
             "#ed7953"
            ],
            [
             0.7777777777777778,
             "#fb9f3a"
            ],
            [
             0.8888888888888888,
             "#fdca26"
            ],
            [
             1,
             "#f0f921"
            ]
           ]
          },
          "colorway": [
           "#636efa",
           "#EF553B",
           "#00cc96",
           "#ab63fa",
           "#FFA15A",
           "#19d3f3",
           "#FF6692",
           "#B6E880",
           "#FF97FF",
           "#FECB52"
          ],
          "font": {
           "color": "#2a3f5f"
          },
          "geo": {
           "bgcolor": "white",
           "lakecolor": "white",
           "landcolor": "#E5ECF6",
           "showlakes": true,
           "showland": true,
           "subunitcolor": "white"
          },
          "hoverlabel": {
           "align": "left"
          },
          "hovermode": "closest",
          "mapbox": {
           "style": "light"
          },
          "paper_bgcolor": "white",
          "plot_bgcolor": "#E5ECF6",
          "polar": {
           "angularaxis": {
            "gridcolor": "white",
            "linecolor": "white",
            "ticks": ""
           },
           "bgcolor": "#E5ECF6",
           "radialaxis": {
            "gridcolor": "white",
            "linecolor": "white",
            "ticks": ""
           }
          },
          "scene": {
           "xaxis": {
            "backgroundcolor": "#E5ECF6",
            "gridcolor": "white",
            "gridwidth": 2,
            "linecolor": "white",
            "showbackground": true,
            "ticks": "",
            "zerolinecolor": "white"
           },
           "yaxis": {
            "backgroundcolor": "#E5ECF6",
            "gridcolor": "white",
            "gridwidth": 2,
            "linecolor": "white",
            "showbackground": true,
            "ticks": "",
            "zerolinecolor": "white"
           },
           "zaxis": {
            "backgroundcolor": "#E5ECF6",
            "gridcolor": "white",
            "gridwidth": 2,
            "linecolor": "white",
            "showbackground": true,
            "ticks": "",
            "zerolinecolor": "white"
           }
          },
          "shapedefaults": {
           "line": {
            "color": "#2a3f5f"
           }
          },
          "ternary": {
           "aaxis": {
            "gridcolor": "white",
            "linecolor": "white",
            "ticks": ""
           },
           "baxis": {
            "gridcolor": "white",
            "linecolor": "white",
            "ticks": ""
           },
           "bgcolor": "#E5ECF6",
           "caxis": {
            "gridcolor": "white",
            "linecolor": "white",
            "ticks": ""
           }
          },
          "title": {
           "x": 0.05
          },
          "xaxis": {
           "automargin": true,
           "gridcolor": "white",
           "linecolor": "white",
           "ticks": "",
           "zerolinecolor": "white",
           "zerolinewidth": 2
          },
          "yaxis": {
           "automargin": true,
           "gridcolor": "white",
           "linecolor": "white",
           "ticks": "",
           "zerolinecolor": "white",
           "zerolinewidth": 2
          }
         }
        },
        "title": {
         "text": "Types of health service in different Wards of Nepalgunj"
        }
       }
      },
      "text/html": [
       "<div>\n",
       "        \n",
       "        \n",
       "            <div id=\"c937003b-8520-4894-b13a-69d717e4e446\" class=\"plotly-graph-div\" style=\"height:525px; width:100%;\"></div>\n",
       "            <script type=\"text/javascript\">\n",
       "                require([\"plotly\"], function(Plotly) {\n",
       "                    window.PLOTLYENV=window.PLOTLYENV || {};\n",
       "                    \n",
       "                if (document.getElementById(\"c937003b-8520-4894-b13a-69d717e4e446\")) {\n",
       "                    Plotly.newPlot(\n",
       "                        'c937003b-8520-4894-b13a-69d717e4e446',\n",
       "                        [{\"labels\": [\"Nepalgunj\", \"ward 1\", \"ward 2\", \"ward 3\", \"ward 4\", \"ward 5\", \"ward 6\", \"ward 7\", \"ward 8\", \"ward 9\", \"ward 11\", \"ward 12\", \"ward 13\", \"ward 14\", \"ward 15\", \"ward 16\", \"ward 17\", \"ward 18\", \"ward 19\", \"ward 20\", \"ward 22\", \"ward 23\", \"ward 24\", \"ward 25\", \"ward 26\", \"ward 27\", \"ward 28\", \"ward 1 - Private clinic\", \"ward 1 - EPI\", \"ward 1 - Urban Health Centre\", \"ward 1 - PHC/ORC\", \"ward 1 - Pharmacy\", \"ward 1 - Ayurbedic\", \"ward 2 - EPI\", \"ward 2 - PHC/ORC\", \"ward 2 - Pharmacy\", \"ward 3 - PHC/ORC\", \"ward 3 - EPI\", \"ward 3 - Urban Health Centre\", \"ward 4 - EPI\", \"ward 4 - Pharmacy\", \"ward 4 - PHC/ORC\", \"ward 4 - Private clinic\", \"ward 5 - EPI\", \"ward 5 - Private clinic\", \"ward 5 - Urban Health Centre\", \"ward 5 - PHC/ORC\", \"ward 5 - Ayurbedic\", \"ward 6 - PHC/ORC\", \"ward 6 - EPI\", \"ward 6 - Health Post\", \"ward 6 - Private clinic\", \"ward 6 - Ayurbedic\", \"ward 7 - Private clinic\", \"ward 7 - EPI\", \"ward 7 - Pharmacy\", \"ward 7 - PHC/ORC\", \"ward 7 - Urban Health Centre\", \"ward 8 - EPI\", \"ward 8 - Health Post\", \"ward 9 - PHC/ORC\", \"ward 9 - Private clinic\", \"ward 9 - EPI\", \"ward 11 - Urban Health Centre\", \"ward 11 - EPI\", \"ward 11 - Ayurbedic\", \"ward 12 - EPI\", \"ward 12 - Pharmacy\", \"ward 12 - Private Hospital\", \"ward 13 - Private clinic\", \"ward 13 - Pharmacy\", \"ward 13 - Private Hospital\", \"ward 13 - Urban Health Centre\", \"ward 13 - Government Hospital\", \"ward 14 - Pharmacy\", \"ward 14 - Private Hospital\", \"ward 14 - Private clinic\", \"ward 15 - Pharmacy\", \"ward 15 - Private clinic\", \"ward 16 - Pharmacy\", \"ward 16 - EPI\", \"ward 16 - Private Hospital\", \"ward 16 - Private clinic\", \"ward 16 - Health Post\", \"ward 17 - Private clinic\", \"ward 17 - EPI\", \"ward 17 - Pharmacy\", \"ward 18 - EPI\", \"ward 18 - PHC/ORC\", \"ward 18 - Health Post\", \"ward 19 - EPI\", \"ward 19 - PHC/ORC\", \"ward 19 - Health Post\", \"ward 20 - EPI\", \"ward 20 - PHC/ORC\", \"ward 20 - Health Post\", \"ward 22 - Health Post\", \"ward 22 - EPI\", \"ward 23 - Private clinic\", \"ward 24 - EPI\", \"ward 24 - Private clinic\", \"ward 24 - PHC/ORC\", \"ward 24 - Health Post\", \"ward 25 - Health Post\", \"ward 26 - EPI\", \"ward 26 - PHC/ORC\", \"ward 26 - Pharmacy\", \"ward 26 - Private clinic\", \"ward 26 - Health Post\", \"ward 27 - EPI\", \"ward 27 - PHC/ORC\", \"ward 27 - Health Post\", \"ward 28 - EPI\", \"ward 28 - PHC/ORC\", \"ward 28 - Health Post\"], \"marker\": {\"line\": {\"width\": 2}}, \"outsidetextfont\": {\"color\": \"#377eb8\", \"size\": 20}, \"parents\": [\"\", \"Nepalgunj\", \"Nepalgunj\", \"Nepalgunj\", \"Nepalgunj\", \"Nepalgunj\", \"Nepalgunj\", \"Nepalgunj\", \"Nepalgunj\", \"Nepalgunj\", \"Nepalgunj\", \"Nepalgunj\", \"Nepalgunj\", \"Nepalgunj\", \"Nepalgunj\", \"Nepalgunj\", \"Nepalgunj\", \"Nepalgunj\", \"Nepalgunj\", \"Nepalgunj\", \"Nepalgunj\", \"Nepalgunj\", \"Nepalgunj\", \"Nepalgunj\", \"Nepalgunj\", \"Nepalgunj\", \"Nepalgunj\", \"ward 1\", \"ward 1\", \"ward 1\", \"ward 1\", \"ward 1\", \"ward 1\", \"ward 2\", \"ward 2\", \"ward 2\", \"ward 3\", \"ward 3\", \"ward 3\", \"ward 4\", \"ward 4\", \"ward 4\", \"ward 4\", \"ward 5\", \"ward 5\", \"ward 5\", \"ward 5\", \"ward 5\", \"ward 6\", \"ward 6\", \"ward 6\", \"ward 6\", \"ward 6\", \"ward 7\", \"ward 7\", \"ward 7\", \"ward 7\", \"ward 7\", \"ward 8\", \"ward 8\", \"ward 9\", \"ward 9\", \"ward 9\", \"ward 11\", \"ward 11\", \"ward 11\", \"ward 12\", \"ward 12\", \"ward 12\", \"ward 13\", \"ward 13\", \"ward 13\", \"ward 13\", \"ward 13\", \"ward 14\", \"ward 14\", \"ward 14\", \"ward 15\", \"ward 15\", \"ward 16\", \"ward 16\", \"ward 16\", \"ward 16\", \"ward 16\", \"ward 17\", \"ward 17\", \"ward 17\", \"ward 18\", \"ward 18\", \"ward 18\", \"ward 19\", \"ward 19\", \"ward 19\", \"ward 20\", \"ward 20\", \"ward 20\", \"ward 22\", \"ward 22\", \"ward 23\", \"ward 24\", \"ward 24\", \"ward 24\", \"ward 24\", \"ward 25\", \"ward 26\", \"ward 26\", \"ward 26\", \"ward 26\", \"ward 26\", \"ward 27\", \"ward 27\", \"ward 27\", \"ward 28\", \"ward 28\", \"ward 28\"], \"type\": \"sunburst\", \"values\": [227, 11, 9, 9, 7, 12, 9, 11, 5, 3, 3, 3, 36, 15, 8, 10, 8, 5, 9, 7, 2, 1, 10, 1, 13, 12, 8, 4, 3, 1, 1, 1, 1, 5, 3, 1, 4, 4, 1, 3, 2, 1, 1, 4, 4, 1, 1, 1, 3, 3, 1, 1, 1, 3, 2, 2, 1, 1, 4, 1, 1, 1, 1, 1, 1, 1, 1, 1, 1, 19, 6, 4, 1, 1, 12, 2, 1, 5, 2, 6, 1, 1, 1, 1, 4, 1, 1, 2, 1, 1, 5, 3, 1, 4, 2, 1, 1, 1, 1, 4, 3, 1, 1, 1, 5, 4, 2, 1, 1, 7, 4, 1, 4, 3, 1]}],\n",
       "                        {\"margin\": {\"b\": 0, \"l\": 0, \"r\": 0, \"t\": 0}, \"template\": {\"data\": {\"bar\": [{\"error_x\": {\"color\": \"#2a3f5f\"}, \"error_y\": {\"color\": \"#2a3f5f\"}, \"marker\": {\"line\": {\"color\": \"#E5ECF6\", \"width\": 0.5}}, \"type\": \"bar\"}], \"barpolar\": [{\"marker\": {\"line\": {\"color\": \"#E5ECF6\", \"width\": 0.5}}, \"type\": \"barpolar\"}], \"carpet\": [{\"aaxis\": {\"endlinecolor\": \"#2a3f5f\", \"gridcolor\": \"white\", \"linecolor\": \"white\", \"minorgridcolor\": \"white\", \"startlinecolor\": \"#2a3f5f\"}, \"baxis\": {\"endlinecolor\": \"#2a3f5f\", \"gridcolor\": \"white\", \"linecolor\": \"white\", \"minorgridcolor\": \"white\", \"startlinecolor\": \"#2a3f5f\"}, \"type\": \"carpet\"}], \"choropleth\": [{\"colorbar\": {\"outlinewidth\": 0, \"ticks\": \"\"}, \"type\": \"choropleth\"}], \"contour\": [{\"colorbar\": {\"outlinewidth\": 0, \"ticks\": \"\"}, \"colorscale\": [[0.0, \"#0d0887\"], [0.1111111111111111, \"#46039f\"], [0.2222222222222222, \"#7201a8\"], [0.3333333333333333, \"#9c179e\"], [0.4444444444444444, \"#bd3786\"], [0.5555555555555556, \"#d8576b\"], [0.6666666666666666, \"#ed7953\"], [0.7777777777777778, \"#fb9f3a\"], [0.8888888888888888, \"#fdca26\"], [1.0, \"#f0f921\"]], \"type\": \"contour\"}], \"contourcarpet\": [{\"colorbar\": {\"outlinewidth\": 0, \"ticks\": \"\"}, \"type\": \"contourcarpet\"}], \"heatmap\": [{\"colorbar\": {\"outlinewidth\": 0, \"ticks\": \"\"}, \"colorscale\": [[0.0, \"#0d0887\"], [0.1111111111111111, \"#46039f\"], [0.2222222222222222, \"#7201a8\"], [0.3333333333333333, \"#9c179e\"], [0.4444444444444444, \"#bd3786\"], [0.5555555555555556, \"#d8576b\"], [0.6666666666666666, \"#ed7953\"], [0.7777777777777778, \"#fb9f3a\"], [0.8888888888888888, \"#fdca26\"], [1.0, \"#f0f921\"]], \"type\": \"heatmap\"}], \"heatmapgl\": [{\"colorbar\": {\"outlinewidth\": 0, \"ticks\": \"\"}, \"colorscale\": [[0.0, \"#0d0887\"], [0.1111111111111111, \"#46039f\"], [0.2222222222222222, \"#7201a8\"], [0.3333333333333333, \"#9c179e\"], [0.4444444444444444, \"#bd3786\"], [0.5555555555555556, \"#d8576b\"], [0.6666666666666666, \"#ed7953\"], [0.7777777777777778, \"#fb9f3a\"], [0.8888888888888888, \"#fdca26\"], [1.0, \"#f0f921\"]], \"type\": \"heatmapgl\"}], \"histogram\": [{\"marker\": {\"colorbar\": {\"outlinewidth\": 0, \"ticks\": \"\"}}, \"type\": \"histogram\"}], \"histogram2d\": [{\"colorbar\": {\"outlinewidth\": 0, \"ticks\": \"\"}, \"colorscale\": [[0.0, \"#0d0887\"], [0.1111111111111111, \"#46039f\"], [0.2222222222222222, \"#7201a8\"], [0.3333333333333333, \"#9c179e\"], [0.4444444444444444, \"#bd3786\"], [0.5555555555555556, \"#d8576b\"], [0.6666666666666666, \"#ed7953\"], [0.7777777777777778, \"#fb9f3a\"], [0.8888888888888888, \"#fdca26\"], [1.0, \"#f0f921\"]], \"type\": \"histogram2d\"}], \"histogram2dcontour\": [{\"colorbar\": {\"outlinewidth\": 0, \"ticks\": \"\"}, \"colorscale\": [[0.0, \"#0d0887\"], [0.1111111111111111, \"#46039f\"], [0.2222222222222222, \"#7201a8\"], [0.3333333333333333, \"#9c179e\"], [0.4444444444444444, \"#bd3786\"], [0.5555555555555556, \"#d8576b\"], [0.6666666666666666, \"#ed7953\"], [0.7777777777777778, \"#fb9f3a\"], [0.8888888888888888, \"#fdca26\"], [1.0, \"#f0f921\"]], \"type\": \"histogram2dcontour\"}], \"mesh3d\": [{\"colorbar\": {\"outlinewidth\": 0, \"ticks\": \"\"}, \"type\": \"mesh3d\"}], \"parcoords\": [{\"line\": {\"colorbar\": {\"outlinewidth\": 0, \"ticks\": \"\"}}, \"type\": \"parcoords\"}], \"scatter\": [{\"marker\": {\"colorbar\": {\"outlinewidth\": 0, \"ticks\": \"\"}}, \"type\": \"scatter\"}], \"scatter3d\": [{\"line\": {\"colorbar\": {\"outlinewidth\": 0, \"ticks\": \"\"}}, \"marker\": {\"colorbar\": {\"outlinewidth\": 0, \"ticks\": \"\"}}, \"type\": \"scatter3d\"}], \"scattercarpet\": [{\"marker\": {\"colorbar\": {\"outlinewidth\": 0, \"ticks\": \"\"}}, \"type\": \"scattercarpet\"}], \"scattergeo\": [{\"marker\": {\"colorbar\": {\"outlinewidth\": 0, \"ticks\": \"\"}}, \"type\": \"scattergeo\"}], \"scattergl\": [{\"marker\": {\"colorbar\": {\"outlinewidth\": 0, \"ticks\": \"\"}}, \"type\": \"scattergl\"}], \"scattermapbox\": [{\"marker\": {\"colorbar\": {\"outlinewidth\": 0, \"ticks\": \"\"}}, \"type\": \"scattermapbox\"}], \"scatterpolar\": [{\"marker\": {\"colorbar\": {\"outlinewidth\": 0, \"ticks\": \"\"}}, \"type\": \"scatterpolar\"}], \"scatterpolargl\": [{\"marker\": {\"colorbar\": {\"outlinewidth\": 0, \"ticks\": \"\"}}, \"type\": \"scatterpolargl\"}], \"scatterternary\": [{\"marker\": {\"colorbar\": {\"outlinewidth\": 0, \"ticks\": \"\"}}, \"type\": \"scatterternary\"}], \"surface\": [{\"colorbar\": {\"outlinewidth\": 0, \"ticks\": \"\"}, \"colorscale\": [[0.0, \"#0d0887\"], [0.1111111111111111, \"#46039f\"], [0.2222222222222222, \"#7201a8\"], [0.3333333333333333, \"#9c179e\"], [0.4444444444444444, \"#bd3786\"], [0.5555555555555556, \"#d8576b\"], [0.6666666666666666, \"#ed7953\"], [0.7777777777777778, \"#fb9f3a\"], [0.8888888888888888, \"#fdca26\"], [1.0, \"#f0f921\"]], \"type\": \"surface\"}], \"table\": [{\"cells\": {\"fill\": {\"color\": \"#EBF0F8\"}, \"line\": {\"color\": \"white\"}}, \"header\": {\"fill\": {\"color\": \"#C8D4E3\"}, \"line\": {\"color\": \"white\"}}, \"type\": \"table\"}]}, \"layout\": {\"annotationdefaults\": {\"arrowcolor\": \"#2a3f5f\", \"arrowhead\": 0, \"arrowwidth\": 1}, \"colorscale\": {\"diverging\": [[0, \"#8e0152\"], [0.1, \"#c51b7d\"], [0.2, \"#de77ae\"], [0.3, \"#f1b6da\"], [0.4, \"#fde0ef\"], [0.5, \"#f7f7f7\"], [0.6, \"#e6f5d0\"], [0.7, \"#b8e186\"], [0.8, \"#7fbc41\"], [0.9, \"#4d9221\"], [1, \"#276419\"]], \"sequential\": [[0.0, \"#0d0887\"], [0.1111111111111111, \"#46039f\"], [0.2222222222222222, \"#7201a8\"], [0.3333333333333333, \"#9c179e\"], [0.4444444444444444, \"#bd3786\"], [0.5555555555555556, \"#d8576b\"], [0.6666666666666666, \"#ed7953\"], [0.7777777777777778, \"#fb9f3a\"], [0.8888888888888888, \"#fdca26\"], [1.0, \"#f0f921\"]], \"sequentialminus\": [[0.0, \"#0d0887\"], [0.1111111111111111, \"#46039f\"], [0.2222222222222222, \"#7201a8\"], [0.3333333333333333, \"#9c179e\"], [0.4444444444444444, \"#bd3786\"], [0.5555555555555556, \"#d8576b\"], [0.6666666666666666, \"#ed7953\"], [0.7777777777777778, \"#fb9f3a\"], [0.8888888888888888, \"#fdca26\"], [1.0, \"#f0f921\"]]}, \"colorway\": [\"#636efa\", \"#EF553B\", \"#00cc96\", \"#ab63fa\", \"#FFA15A\", \"#19d3f3\", \"#FF6692\", \"#B6E880\", \"#FF97FF\", \"#FECB52\"], \"font\": {\"color\": \"#2a3f5f\"}, \"geo\": {\"bgcolor\": \"white\", \"lakecolor\": \"white\", \"landcolor\": \"#E5ECF6\", \"showlakes\": true, \"showland\": true, \"subunitcolor\": \"white\"}, \"hoverlabel\": {\"align\": \"left\"}, \"hovermode\": \"closest\", \"mapbox\": {\"style\": \"light\"}, \"paper_bgcolor\": \"white\", \"plot_bgcolor\": \"#E5ECF6\", \"polar\": {\"angularaxis\": {\"gridcolor\": \"white\", \"linecolor\": \"white\", \"ticks\": \"\"}, \"bgcolor\": \"#E5ECF6\", \"radialaxis\": {\"gridcolor\": \"white\", \"linecolor\": \"white\", \"ticks\": \"\"}}, \"scene\": {\"xaxis\": {\"backgroundcolor\": \"#E5ECF6\", \"gridcolor\": \"white\", \"gridwidth\": 2, \"linecolor\": \"white\", \"showbackground\": true, \"ticks\": \"\", \"zerolinecolor\": \"white\"}, \"yaxis\": {\"backgroundcolor\": \"#E5ECF6\", \"gridcolor\": \"white\", \"gridwidth\": 2, \"linecolor\": \"white\", \"showbackground\": true, \"ticks\": \"\", \"zerolinecolor\": \"white\"}, \"zaxis\": {\"backgroundcolor\": \"#E5ECF6\", \"gridcolor\": \"white\", \"gridwidth\": 2, \"linecolor\": \"white\", \"showbackground\": true, \"ticks\": \"\", \"zerolinecolor\": \"white\"}}, \"shapedefaults\": {\"line\": {\"color\": \"#2a3f5f\"}}, \"ternary\": {\"aaxis\": {\"gridcolor\": \"white\", \"linecolor\": \"white\", \"ticks\": \"\"}, \"baxis\": {\"gridcolor\": \"white\", \"linecolor\": \"white\", \"ticks\": \"\"}, \"bgcolor\": \"#E5ECF6\", \"caxis\": {\"gridcolor\": \"white\", \"linecolor\": \"white\", \"ticks\": \"\"}}, \"title\": {\"x\": 0.05}, \"xaxis\": {\"automargin\": true, \"gridcolor\": \"white\", \"linecolor\": \"white\", \"ticks\": \"\", \"zerolinecolor\": \"white\", \"zerolinewidth\": 2}, \"yaxis\": {\"automargin\": true, \"gridcolor\": \"white\", \"linecolor\": \"white\", \"ticks\": \"\", \"zerolinecolor\": \"white\", \"zerolinewidth\": 2}}}, \"title\": {\"text\": \"Types of health service in different Wards of Nepalgunj\"}},\n",
       "                        {\"responsive\": true}\n",
       "                    ).then(function(){\n",
       "                            \n",
       "var gd = document.getElementById('c937003b-8520-4894-b13a-69d717e4e446');\n",
       "var x = new MutationObserver(function (mutations, observer) {{\n",
       "        var display = window.getComputedStyle(gd).display;\n",
       "        if (!display || display === 'none') {{\n",
       "            console.log([gd, 'removed!']);\n",
       "            Plotly.purge(gd);\n",
       "            observer.disconnect();\n",
       "        }}\n",
       "}});\n",
       "\n",
       "// Listen for the removal of the full notebook cells\n",
       "var notebookContainer = gd.closest('#notebook-container');\n",
       "if (notebookContainer) {{\n",
       "    x.observe(notebookContainer, {childList: true});\n",
       "}}\n",
       "\n",
       "// Listen for the clearing of the current output cell\n",
       "var outputEl = gd.closest('.output');\n",
       "if (outputEl) {{\n",
       "    x.observe(outputEl, {childList: true});\n",
       "}}\n",
       "\n",
       "                        })\n",
       "                };\n",
       "                });\n",
       "            </script>\n",
       "        </div>"
      ]
     },
     "metadata": {},
     "output_type": "display_data"
    }
   ],
   "source": [
    "trace = go.Sunburst(\n",
    "    labels=labels,\n",
    "    parents=parents,\n",
    "    values=values,\n",
    "    outsidetextfont = {\"size\": 20, \"color\": \"#377eb8\"},\n",
    "    marker = {\"line\": {\"width\": 2}},\n",
    ")\n",
    "\n",
    "layout = go.Layout(\n",
    "    title = \"Types of health service in different Wards of Nepalgunj\",\n",
    "    margin = go.layout.Margin(t=0, l=0, r=0, b=0)\n",
    ")\n",
    "\n",
    "py.iplot(go.Figure([trace], layout), filename='basic_sunburst_chart')"
   ]
  },
  {
   "cell_type": "markdown",
   "metadata": {},
   "source": [
    "## In Attriya (Kailali) Godawari"
   ]
  },
  {
   "cell_type": "code",
   "execution_count": 33,
   "metadata": {},
   "outputs": [],
   "source": [
    "df = pd.read_csv(\"kaushal.csv\")"
   ]
  },
  {
   "cell_type": "code",
   "execution_count": 34,
   "metadata": {},
   "outputs": [],
   "source": [
    "df = df[df[\"Name of Municipalities?\"]==\"Nepalgunj (Banke)\"]"
   ]
  },
  {
   "cell_type": "code",
   "execution_count": 35,
   "metadata": {},
   "outputs": [],
   "source": [
    "df = df[[\"Ward No\",\"Type of Health facility\"]]\n",
    "df[\"Ward No\"] = df[\"Ward No\"].astype(int)"
   ]
  },
  {
   "cell_type": "code",
   "execution_count": 36,
   "metadata": {},
   "outputs": [],
   "source": [
    "dff = df.groupby([\"Ward No\"])[\"Type of Health facility\"]\n",
    "labels = []\n",
    "parents = []\n",
    "values = []\n",
    "for i, d in dff:\n",
    "    labels.append(f\"ward {i}\")\n",
    "    values.append(int(len(d)))\n",
    "    parents.append(\"Godawari\")\n",
    "\n",
    "for i, d in dff:\n",
    "    a = d.value_counts().astype(int)\n",
    "    for t in a.index:\n",
    "        labels.append(f\"ward {i} - {t}\")\n",
    "        parents.append(f\"ward {i}\")\n",
    "    for t in a.values:\n",
    "        values.append(int(t))\n",
    "\n",
    "parents.insert(0, \"\")\n",
    "labels.insert(0, \"Godawari\")\n",
    "values.insert(0, len(df))"
   ]
  },
  {
   "cell_type": "code",
   "execution_count": 37,
   "metadata": {},
   "outputs": [
    {
     "data": {
      "application/vnd.plotly.v1+json": {
       "config": {
        "linkText": "Export to plot.ly",
        "plotlyServerURL": "https://plot.ly",
        "showLink": false
       },
       "data": [
        {
         "labels": [
          "Godawari",
          "ward 1",
          "ward 2",
          "ward 3",
          "ward 4",
          "ward 5",
          "ward 6",
          "ward 7",
          "ward 8",
          "ward 9",
          "ward 11",
          "ward 12",
          "ward 13",
          "ward 14",
          "ward 15",
          "ward 16",
          "ward 17",
          "ward 18",
          "ward 19",
          "ward 20",
          "ward 22",
          "ward 23",
          "ward 24",
          "ward 25",
          "ward 26",
          "ward 27",
          "ward 28",
          "ward 1 - Private clinic",
          "ward 1 - EPI",
          "ward 1 - Urban Health Centre",
          "ward 1 - PHC/ORC",
          "ward 1 - Pharmacy",
          "ward 1 - Ayurbedic",
          "ward 2 - EPI",
          "ward 2 - PHC/ORC",
          "ward 2 - Pharmacy",
          "ward 3 - PHC/ORC",
          "ward 3 - EPI",
          "ward 3 - Urban Health Centre",
          "ward 4 - EPI",
          "ward 4 - Pharmacy",
          "ward 4 - PHC/ORC",
          "ward 4 - Private clinic",
          "ward 5 - EPI",
          "ward 5 - Private clinic",
          "ward 5 - Urban Health Centre",
          "ward 5 - PHC/ORC",
          "ward 5 - Ayurbedic",
          "ward 6 - PHC/ORC",
          "ward 6 - EPI",
          "ward 6 - Health Post",
          "ward 6 - Private clinic",
          "ward 6 - Ayurbedic",
          "ward 7 - Private clinic",
          "ward 7 - EPI",
          "ward 7 - Pharmacy",
          "ward 7 - PHC/ORC",
          "ward 7 - Urban Health Centre",
          "ward 8 - EPI",
          "ward 8 - Health Post",
          "ward 9 - PHC/ORC",
          "ward 9 - Private clinic",
          "ward 9 - EPI",
          "ward 11 - Urban Health Centre",
          "ward 11 - EPI",
          "ward 11 - Ayurbedic",
          "ward 12 - EPI",
          "ward 12 - Pharmacy",
          "ward 12 - Private Hospital",
          "ward 13 - Private clinic",
          "ward 13 - Pharmacy",
          "ward 13 - Private Hospital",
          "ward 13 - Urban Health Centre",
          "ward 13 - Government Hospital",
          "ward 14 - Pharmacy",
          "ward 14 - Private Hospital",
          "ward 14 - Private clinic",
          "ward 15 - Pharmacy",
          "ward 15 - Private clinic",
          "ward 16 - Pharmacy",
          "ward 16 - EPI",
          "ward 16 - Private Hospital",
          "ward 16 - Private clinic",
          "ward 16 - Health Post",
          "ward 17 - Private clinic",
          "ward 17 - EPI",
          "ward 17 - Pharmacy",
          "ward 18 - EPI",
          "ward 18 - PHC/ORC",
          "ward 18 - Health Post",
          "ward 19 - EPI",
          "ward 19 - PHC/ORC",
          "ward 19 - Health Post",
          "ward 20 - EPI",
          "ward 20 - PHC/ORC",
          "ward 20 - Health Post",
          "ward 22 - Health Post",
          "ward 22 - EPI",
          "ward 23 - Private clinic",
          "ward 24 - EPI",
          "ward 24 - Private clinic",
          "ward 24 - PHC/ORC",
          "ward 24 - Health Post",
          "ward 25 - Health Post",
          "ward 26 - EPI",
          "ward 26 - PHC/ORC",
          "ward 26 - Pharmacy",
          "ward 26 - Private clinic",
          "ward 26 - Health Post",
          "ward 27 - EPI",
          "ward 27 - PHC/ORC",
          "ward 27 - Health Post",
          "ward 28 - EPI",
          "ward 28 - PHC/ORC",
          "ward 28 - Health Post"
         ],
         "marker": {
          "line": {
           "width": 2
          }
         },
         "outsidetextfont": {
          "color": "#377eb8",
          "size": 20
         },
         "parents": [
          "",
          "Godawari",
          "Godawari",
          "Godawari",
          "Godawari",
          "Godawari",
          "Godawari",
          "Godawari",
          "Godawari",
          "Godawari",
          "Godawari",
          "Godawari",
          "Godawari",
          "Godawari",
          "Godawari",
          "Godawari",
          "Godawari",
          "Godawari",
          "Godawari",
          "Godawari",
          "Godawari",
          "Godawari",
          "Godawari",
          "Godawari",
          "Godawari",
          "Godawari",
          "Godawari",
          "ward 1",
          "ward 1",
          "ward 1",
          "ward 1",
          "ward 1",
          "ward 1",
          "ward 2",
          "ward 2",
          "ward 2",
          "ward 3",
          "ward 3",
          "ward 3",
          "ward 4",
          "ward 4",
          "ward 4",
          "ward 4",
          "ward 5",
          "ward 5",
          "ward 5",
          "ward 5",
          "ward 5",
          "ward 6",
          "ward 6",
          "ward 6",
          "ward 6",
          "ward 6",
          "ward 7",
          "ward 7",
          "ward 7",
          "ward 7",
          "ward 7",
          "ward 8",
          "ward 8",
          "ward 9",
          "ward 9",
          "ward 9",
          "ward 11",
          "ward 11",
          "ward 11",
          "ward 12",
          "ward 12",
          "ward 12",
          "ward 13",
          "ward 13",
          "ward 13",
          "ward 13",
          "ward 13",
          "ward 14",
          "ward 14",
          "ward 14",
          "ward 15",
          "ward 15",
          "ward 16",
          "ward 16",
          "ward 16",
          "ward 16",
          "ward 16",
          "ward 17",
          "ward 17",
          "ward 17",
          "ward 18",
          "ward 18",
          "ward 18",
          "ward 19",
          "ward 19",
          "ward 19",
          "ward 20",
          "ward 20",
          "ward 20",
          "ward 22",
          "ward 22",
          "ward 23",
          "ward 24",
          "ward 24",
          "ward 24",
          "ward 24",
          "ward 25",
          "ward 26",
          "ward 26",
          "ward 26",
          "ward 26",
          "ward 26",
          "ward 27",
          "ward 27",
          "ward 27",
          "ward 28",
          "ward 28",
          "ward 28"
         ],
         "type": "sunburst",
         "values": [
          227,
          11,
          9,
          9,
          7,
          12,
          9,
          11,
          5,
          3,
          3,
          3,
          36,
          15,
          8,
          10,
          8,
          5,
          9,
          7,
          2,
          1,
          10,
          1,
          13,
          12,
          8,
          4,
          3,
          1,
          1,
          1,
          1,
          5,
          3,
          1,
          4,
          4,
          1,
          3,
          2,
          1,
          1,
          4,
          4,
          1,
          1,
          1,
          3,
          3,
          1,
          1,
          1,
          3,
          2,
          2,
          1,
          1,
          4,
          1,
          1,
          1,
          1,
          1,
          1,
          1,
          1,
          1,
          1,
          19,
          6,
          4,
          1,
          1,
          12,
          2,
          1,
          5,
          2,
          6,
          1,
          1,
          1,
          1,
          4,
          1,
          1,
          2,
          1,
          1,
          5,
          3,
          1,
          4,
          2,
          1,
          1,
          1,
          1,
          4,
          3,
          1,
          1,
          1,
          5,
          4,
          2,
          1,
          1,
          7,
          4,
          1,
          4,
          3,
          1
         ]
        }
       ],
       "layout": {
        "margin": {
         "b": 0,
         "l": 0,
         "r": 0,
         "t": 0
        },
        "template": {
         "data": {
          "bar": [
           {
            "error_x": {
             "color": "#2a3f5f"
            },
            "error_y": {
             "color": "#2a3f5f"
            },
            "marker": {
             "line": {
              "color": "#E5ECF6",
              "width": 0.5
             }
            },
            "type": "bar"
           }
          ],
          "barpolar": [
           {
            "marker": {
             "line": {
              "color": "#E5ECF6",
              "width": 0.5
             }
            },
            "type": "barpolar"
           }
          ],
          "carpet": [
           {
            "aaxis": {
             "endlinecolor": "#2a3f5f",
             "gridcolor": "white",
             "linecolor": "white",
             "minorgridcolor": "white",
             "startlinecolor": "#2a3f5f"
            },
            "baxis": {
             "endlinecolor": "#2a3f5f",
             "gridcolor": "white",
             "linecolor": "white",
             "minorgridcolor": "white",
             "startlinecolor": "#2a3f5f"
            },
            "type": "carpet"
           }
          ],
          "choropleth": [
           {
            "colorbar": {
             "outlinewidth": 0,
             "ticks": ""
            },
            "type": "choropleth"
           }
          ],
          "contour": [
           {
            "colorbar": {
             "outlinewidth": 0,
             "ticks": ""
            },
            "colorscale": [
             [
              0,
              "#0d0887"
             ],
             [
              0.1111111111111111,
              "#46039f"
             ],
             [
              0.2222222222222222,
              "#7201a8"
             ],
             [
              0.3333333333333333,
              "#9c179e"
             ],
             [
              0.4444444444444444,
              "#bd3786"
             ],
             [
              0.5555555555555556,
              "#d8576b"
             ],
             [
              0.6666666666666666,
              "#ed7953"
             ],
             [
              0.7777777777777778,
              "#fb9f3a"
             ],
             [
              0.8888888888888888,
              "#fdca26"
             ],
             [
              1,
              "#f0f921"
             ]
            ],
            "type": "contour"
           }
          ],
          "contourcarpet": [
           {
            "colorbar": {
             "outlinewidth": 0,
             "ticks": ""
            },
            "type": "contourcarpet"
           }
          ],
          "heatmap": [
           {
            "colorbar": {
             "outlinewidth": 0,
             "ticks": ""
            },
            "colorscale": [
             [
              0,
              "#0d0887"
             ],
             [
              0.1111111111111111,
              "#46039f"
             ],
             [
              0.2222222222222222,
              "#7201a8"
             ],
             [
              0.3333333333333333,
              "#9c179e"
             ],
             [
              0.4444444444444444,
              "#bd3786"
             ],
             [
              0.5555555555555556,
              "#d8576b"
             ],
             [
              0.6666666666666666,
              "#ed7953"
             ],
             [
              0.7777777777777778,
              "#fb9f3a"
             ],
             [
              0.8888888888888888,
              "#fdca26"
             ],
             [
              1,
              "#f0f921"
             ]
            ],
            "type": "heatmap"
           }
          ],
          "heatmapgl": [
           {
            "colorbar": {
             "outlinewidth": 0,
             "ticks": ""
            },
            "colorscale": [
             [
              0,
              "#0d0887"
             ],
             [
              0.1111111111111111,
              "#46039f"
             ],
             [
              0.2222222222222222,
              "#7201a8"
             ],
             [
              0.3333333333333333,
              "#9c179e"
             ],
             [
              0.4444444444444444,
              "#bd3786"
             ],
             [
              0.5555555555555556,
              "#d8576b"
             ],
             [
              0.6666666666666666,
              "#ed7953"
             ],
             [
              0.7777777777777778,
              "#fb9f3a"
             ],
             [
              0.8888888888888888,
              "#fdca26"
             ],
             [
              1,
              "#f0f921"
             ]
            ],
            "type": "heatmapgl"
           }
          ],
          "histogram": [
           {
            "marker": {
             "colorbar": {
              "outlinewidth": 0,
              "ticks": ""
             }
            },
            "type": "histogram"
           }
          ],
          "histogram2d": [
           {
            "colorbar": {
             "outlinewidth": 0,
             "ticks": ""
            },
            "colorscale": [
             [
              0,
              "#0d0887"
             ],
             [
              0.1111111111111111,
              "#46039f"
             ],
             [
              0.2222222222222222,
              "#7201a8"
             ],
             [
              0.3333333333333333,
              "#9c179e"
             ],
             [
              0.4444444444444444,
              "#bd3786"
             ],
             [
              0.5555555555555556,
              "#d8576b"
             ],
             [
              0.6666666666666666,
              "#ed7953"
             ],
             [
              0.7777777777777778,
              "#fb9f3a"
             ],
             [
              0.8888888888888888,
              "#fdca26"
             ],
             [
              1,
              "#f0f921"
             ]
            ],
            "type": "histogram2d"
           }
          ],
          "histogram2dcontour": [
           {
            "colorbar": {
             "outlinewidth": 0,
             "ticks": ""
            },
            "colorscale": [
             [
              0,
              "#0d0887"
             ],
             [
              0.1111111111111111,
              "#46039f"
             ],
             [
              0.2222222222222222,
              "#7201a8"
             ],
             [
              0.3333333333333333,
              "#9c179e"
             ],
             [
              0.4444444444444444,
              "#bd3786"
             ],
             [
              0.5555555555555556,
              "#d8576b"
             ],
             [
              0.6666666666666666,
              "#ed7953"
             ],
             [
              0.7777777777777778,
              "#fb9f3a"
             ],
             [
              0.8888888888888888,
              "#fdca26"
             ],
             [
              1,
              "#f0f921"
             ]
            ],
            "type": "histogram2dcontour"
           }
          ],
          "mesh3d": [
           {
            "colorbar": {
             "outlinewidth": 0,
             "ticks": ""
            },
            "type": "mesh3d"
           }
          ],
          "parcoords": [
           {
            "line": {
             "colorbar": {
              "outlinewidth": 0,
              "ticks": ""
             }
            },
            "type": "parcoords"
           }
          ],
          "scatter": [
           {
            "marker": {
             "colorbar": {
              "outlinewidth": 0,
              "ticks": ""
             }
            },
            "type": "scatter"
           }
          ],
          "scatter3d": [
           {
            "line": {
             "colorbar": {
              "outlinewidth": 0,
              "ticks": ""
             }
            },
            "marker": {
             "colorbar": {
              "outlinewidth": 0,
              "ticks": ""
             }
            },
            "type": "scatter3d"
           }
          ],
          "scattercarpet": [
           {
            "marker": {
             "colorbar": {
              "outlinewidth": 0,
              "ticks": ""
             }
            },
            "type": "scattercarpet"
           }
          ],
          "scattergeo": [
           {
            "marker": {
             "colorbar": {
              "outlinewidth": 0,
              "ticks": ""
             }
            },
            "type": "scattergeo"
           }
          ],
          "scattergl": [
           {
            "marker": {
             "colorbar": {
              "outlinewidth": 0,
              "ticks": ""
             }
            },
            "type": "scattergl"
           }
          ],
          "scattermapbox": [
           {
            "marker": {
             "colorbar": {
              "outlinewidth": 0,
              "ticks": ""
             }
            },
            "type": "scattermapbox"
           }
          ],
          "scatterpolar": [
           {
            "marker": {
             "colorbar": {
              "outlinewidth": 0,
              "ticks": ""
             }
            },
            "type": "scatterpolar"
           }
          ],
          "scatterpolargl": [
           {
            "marker": {
             "colorbar": {
              "outlinewidth": 0,
              "ticks": ""
             }
            },
            "type": "scatterpolargl"
           }
          ],
          "scatterternary": [
           {
            "marker": {
             "colorbar": {
              "outlinewidth": 0,
              "ticks": ""
             }
            },
            "type": "scatterternary"
           }
          ],
          "surface": [
           {
            "colorbar": {
             "outlinewidth": 0,
             "ticks": ""
            },
            "colorscale": [
             [
              0,
              "#0d0887"
             ],
             [
              0.1111111111111111,
              "#46039f"
             ],
             [
              0.2222222222222222,
              "#7201a8"
             ],
             [
              0.3333333333333333,
              "#9c179e"
             ],
             [
              0.4444444444444444,
              "#bd3786"
             ],
             [
              0.5555555555555556,
              "#d8576b"
             ],
             [
              0.6666666666666666,
              "#ed7953"
             ],
             [
              0.7777777777777778,
              "#fb9f3a"
             ],
             [
              0.8888888888888888,
              "#fdca26"
             ],
             [
              1,
              "#f0f921"
             ]
            ],
            "type": "surface"
           }
          ],
          "table": [
           {
            "cells": {
             "fill": {
              "color": "#EBF0F8"
             },
             "line": {
              "color": "white"
             }
            },
            "header": {
             "fill": {
              "color": "#C8D4E3"
             },
             "line": {
              "color": "white"
             }
            },
            "type": "table"
           }
          ]
         },
         "layout": {
          "annotationdefaults": {
           "arrowcolor": "#2a3f5f",
           "arrowhead": 0,
           "arrowwidth": 1
          },
          "colorscale": {
           "diverging": [
            [
             0,
             "#8e0152"
            ],
            [
             0.1,
             "#c51b7d"
            ],
            [
             0.2,
             "#de77ae"
            ],
            [
             0.3,
             "#f1b6da"
            ],
            [
             0.4,
             "#fde0ef"
            ],
            [
             0.5,
             "#f7f7f7"
            ],
            [
             0.6,
             "#e6f5d0"
            ],
            [
             0.7,
             "#b8e186"
            ],
            [
             0.8,
             "#7fbc41"
            ],
            [
             0.9,
             "#4d9221"
            ],
            [
             1,
             "#276419"
            ]
           ],
           "sequential": [
            [
             0,
             "#0d0887"
            ],
            [
             0.1111111111111111,
             "#46039f"
            ],
            [
             0.2222222222222222,
             "#7201a8"
            ],
            [
             0.3333333333333333,
             "#9c179e"
            ],
            [
             0.4444444444444444,
             "#bd3786"
            ],
            [
             0.5555555555555556,
             "#d8576b"
            ],
            [
             0.6666666666666666,
             "#ed7953"
            ],
            [
             0.7777777777777778,
             "#fb9f3a"
            ],
            [
             0.8888888888888888,
             "#fdca26"
            ],
            [
             1,
             "#f0f921"
            ]
           ],
           "sequentialminus": [
            [
             0,
             "#0d0887"
            ],
            [
             0.1111111111111111,
             "#46039f"
            ],
            [
             0.2222222222222222,
             "#7201a8"
            ],
            [
             0.3333333333333333,
             "#9c179e"
            ],
            [
             0.4444444444444444,
             "#bd3786"
            ],
            [
             0.5555555555555556,
             "#d8576b"
            ],
            [
             0.6666666666666666,
             "#ed7953"
            ],
            [
             0.7777777777777778,
             "#fb9f3a"
            ],
            [
             0.8888888888888888,
             "#fdca26"
            ],
            [
             1,
             "#f0f921"
            ]
           ]
          },
          "colorway": [
           "#636efa",
           "#EF553B",
           "#00cc96",
           "#ab63fa",
           "#FFA15A",
           "#19d3f3",
           "#FF6692",
           "#B6E880",
           "#FF97FF",
           "#FECB52"
          ],
          "font": {
           "color": "#2a3f5f"
          },
          "geo": {
           "bgcolor": "white",
           "lakecolor": "white",
           "landcolor": "#E5ECF6",
           "showlakes": true,
           "showland": true,
           "subunitcolor": "white"
          },
          "hoverlabel": {
           "align": "left"
          },
          "hovermode": "closest",
          "mapbox": {
           "style": "light"
          },
          "paper_bgcolor": "white",
          "plot_bgcolor": "#E5ECF6",
          "polar": {
           "angularaxis": {
            "gridcolor": "white",
            "linecolor": "white",
            "ticks": ""
           },
           "bgcolor": "#E5ECF6",
           "radialaxis": {
            "gridcolor": "white",
            "linecolor": "white",
            "ticks": ""
           }
          },
          "scene": {
           "xaxis": {
            "backgroundcolor": "#E5ECF6",
            "gridcolor": "white",
            "gridwidth": 2,
            "linecolor": "white",
            "showbackground": true,
            "ticks": "",
            "zerolinecolor": "white"
           },
           "yaxis": {
            "backgroundcolor": "#E5ECF6",
            "gridcolor": "white",
            "gridwidth": 2,
            "linecolor": "white",
            "showbackground": true,
            "ticks": "",
            "zerolinecolor": "white"
           },
           "zaxis": {
            "backgroundcolor": "#E5ECF6",
            "gridcolor": "white",
            "gridwidth": 2,
            "linecolor": "white",
            "showbackground": true,
            "ticks": "",
            "zerolinecolor": "white"
           }
          },
          "shapedefaults": {
           "line": {
            "color": "#2a3f5f"
           }
          },
          "ternary": {
           "aaxis": {
            "gridcolor": "white",
            "linecolor": "white",
            "ticks": ""
           },
           "baxis": {
            "gridcolor": "white",
            "linecolor": "white",
            "ticks": ""
           },
           "bgcolor": "#E5ECF6",
           "caxis": {
            "gridcolor": "white",
            "linecolor": "white",
            "ticks": ""
           }
          },
          "title": {
           "x": 0.05
          },
          "xaxis": {
           "automargin": true,
           "gridcolor": "white",
           "linecolor": "white",
           "ticks": "",
           "zerolinecolor": "white",
           "zerolinewidth": 2
          },
          "yaxis": {
           "automargin": true,
           "gridcolor": "white",
           "linecolor": "white",
           "ticks": "",
           "zerolinecolor": "white",
           "zerolinewidth": 2
          }
         }
        },
        "title": {
         "text": "Types of health service in different Wards of Godawari"
        }
       }
      },
      "text/html": [
       "<div>\n",
       "        \n",
       "        \n",
       "            <div id=\"9d6dc7e5-93f7-4ccc-9e45-ac42b0a55306\" class=\"plotly-graph-div\" style=\"height:525px; width:100%;\"></div>\n",
       "            <script type=\"text/javascript\">\n",
       "                require([\"plotly\"], function(Plotly) {\n",
       "                    window.PLOTLYENV=window.PLOTLYENV || {};\n",
       "                    \n",
       "                if (document.getElementById(\"9d6dc7e5-93f7-4ccc-9e45-ac42b0a55306\")) {\n",
       "                    Plotly.newPlot(\n",
       "                        '9d6dc7e5-93f7-4ccc-9e45-ac42b0a55306',\n",
       "                        [{\"labels\": [\"Godawari\", \"ward 1\", \"ward 2\", \"ward 3\", \"ward 4\", \"ward 5\", \"ward 6\", \"ward 7\", \"ward 8\", \"ward 9\", \"ward 11\", \"ward 12\", \"ward 13\", \"ward 14\", \"ward 15\", \"ward 16\", \"ward 17\", \"ward 18\", \"ward 19\", \"ward 20\", \"ward 22\", \"ward 23\", \"ward 24\", \"ward 25\", \"ward 26\", \"ward 27\", \"ward 28\", \"ward 1 - Private clinic\", \"ward 1 - EPI\", \"ward 1 - Urban Health Centre\", \"ward 1 - PHC/ORC\", \"ward 1 - Pharmacy\", \"ward 1 - Ayurbedic\", \"ward 2 - EPI\", \"ward 2 - PHC/ORC\", \"ward 2 - Pharmacy\", \"ward 3 - PHC/ORC\", \"ward 3 - EPI\", \"ward 3 - Urban Health Centre\", \"ward 4 - EPI\", \"ward 4 - Pharmacy\", \"ward 4 - PHC/ORC\", \"ward 4 - Private clinic\", \"ward 5 - EPI\", \"ward 5 - Private clinic\", \"ward 5 - Urban Health Centre\", \"ward 5 - PHC/ORC\", \"ward 5 - Ayurbedic\", \"ward 6 - PHC/ORC\", \"ward 6 - EPI\", \"ward 6 - Health Post\", \"ward 6 - Private clinic\", \"ward 6 - Ayurbedic\", \"ward 7 - Private clinic\", \"ward 7 - EPI\", \"ward 7 - Pharmacy\", \"ward 7 - PHC/ORC\", \"ward 7 - Urban Health Centre\", \"ward 8 - EPI\", \"ward 8 - Health Post\", \"ward 9 - PHC/ORC\", \"ward 9 - Private clinic\", \"ward 9 - EPI\", \"ward 11 - Urban Health Centre\", \"ward 11 - EPI\", \"ward 11 - Ayurbedic\", \"ward 12 - EPI\", \"ward 12 - Pharmacy\", \"ward 12 - Private Hospital\", \"ward 13 - Private clinic\", \"ward 13 - Pharmacy\", \"ward 13 - Private Hospital\", \"ward 13 - Urban Health Centre\", \"ward 13 - Government Hospital\", \"ward 14 - Pharmacy\", \"ward 14 - Private Hospital\", \"ward 14 - Private clinic\", \"ward 15 - Pharmacy\", \"ward 15 - Private clinic\", \"ward 16 - Pharmacy\", \"ward 16 - EPI\", \"ward 16 - Private Hospital\", \"ward 16 - Private clinic\", \"ward 16 - Health Post\", \"ward 17 - Private clinic\", \"ward 17 - EPI\", \"ward 17 - Pharmacy\", \"ward 18 - EPI\", \"ward 18 - PHC/ORC\", \"ward 18 - Health Post\", \"ward 19 - EPI\", \"ward 19 - PHC/ORC\", \"ward 19 - Health Post\", \"ward 20 - EPI\", \"ward 20 - PHC/ORC\", \"ward 20 - Health Post\", \"ward 22 - Health Post\", \"ward 22 - EPI\", \"ward 23 - Private clinic\", \"ward 24 - EPI\", \"ward 24 - Private clinic\", \"ward 24 - PHC/ORC\", \"ward 24 - Health Post\", \"ward 25 - Health Post\", \"ward 26 - EPI\", \"ward 26 - PHC/ORC\", \"ward 26 - Pharmacy\", \"ward 26 - Private clinic\", \"ward 26 - Health Post\", \"ward 27 - EPI\", \"ward 27 - PHC/ORC\", \"ward 27 - Health Post\", \"ward 28 - EPI\", \"ward 28 - PHC/ORC\", \"ward 28 - Health Post\"], \"marker\": {\"line\": {\"width\": 2}}, \"outsidetextfont\": {\"color\": \"#377eb8\", \"size\": 20}, \"parents\": [\"\", \"Godawari\", \"Godawari\", \"Godawari\", \"Godawari\", \"Godawari\", \"Godawari\", \"Godawari\", \"Godawari\", \"Godawari\", \"Godawari\", \"Godawari\", \"Godawari\", \"Godawari\", \"Godawari\", \"Godawari\", \"Godawari\", \"Godawari\", \"Godawari\", \"Godawari\", \"Godawari\", \"Godawari\", \"Godawari\", \"Godawari\", \"Godawari\", \"Godawari\", \"Godawari\", \"ward 1\", \"ward 1\", \"ward 1\", \"ward 1\", \"ward 1\", \"ward 1\", \"ward 2\", \"ward 2\", \"ward 2\", \"ward 3\", \"ward 3\", \"ward 3\", \"ward 4\", \"ward 4\", \"ward 4\", \"ward 4\", \"ward 5\", \"ward 5\", \"ward 5\", \"ward 5\", \"ward 5\", \"ward 6\", \"ward 6\", \"ward 6\", \"ward 6\", \"ward 6\", \"ward 7\", \"ward 7\", \"ward 7\", \"ward 7\", \"ward 7\", \"ward 8\", \"ward 8\", \"ward 9\", \"ward 9\", \"ward 9\", \"ward 11\", \"ward 11\", \"ward 11\", \"ward 12\", \"ward 12\", \"ward 12\", \"ward 13\", \"ward 13\", \"ward 13\", \"ward 13\", \"ward 13\", \"ward 14\", \"ward 14\", \"ward 14\", \"ward 15\", \"ward 15\", \"ward 16\", \"ward 16\", \"ward 16\", \"ward 16\", \"ward 16\", \"ward 17\", \"ward 17\", \"ward 17\", \"ward 18\", \"ward 18\", \"ward 18\", \"ward 19\", \"ward 19\", \"ward 19\", \"ward 20\", \"ward 20\", \"ward 20\", \"ward 22\", \"ward 22\", \"ward 23\", \"ward 24\", \"ward 24\", \"ward 24\", \"ward 24\", \"ward 25\", \"ward 26\", \"ward 26\", \"ward 26\", \"ward 26\", \"ward 26\", \"ward 27\", \"ward 27\", \"ward 27\", \"ward 28\", \"ward 28\", \"ward 28\"], \"type\": \"sunburst\", \"values\": [227, 11, 9, 9, 7, 12, 9, 11, 5, 3, 3, 3, 36, 15, 8, 10, 8, 5, 9, 7, 2, 1, 10, 1, 13, 12, 8, 4, 3, 1, 1, 1, 1, 5, 3, 1, 4, 4, 1, 3, 2, 1, 1, 4, 4, 1, 1, 1, 3, 3, 1, 1, 1, 3, 2, 2, 1, 1, 4, 1, 1, 1, 1, 1, 1, 1, 1, 1, 1, 19, 6, 4, 1, 1, 12, 2, 1, 5, 2, 6, 1, 1, 1, 1, 4, 1, 1, 2, 1, 1, 5, 3, 1, 4, 2, 1, 1, 1, 1, 4, 3, 1, 1, 1, 5, 4, 2, 1, 1, 7, 4, 1, 4, 3, 1]}],\n",
       "                        {\"margin\": {\"b\": 0, \"l\": 0, \"r\": 0, \"t\": 0}, \"template\": {\"data\": {\"bar\": [{\"error_x\": {\"color\": \"#2a3f5f\"}, \"error_y\": {\"color\": \"#2a3f5f\"}, \"marker\": {\"line\": {\"color\": \"#E5ECF6\", \"width\": 0.5}}, \"type\": \"bar\"}], \"barpolar\": [{\"marker\": {\"line\": {\"color\": \"#E5ECF6\", \"width\": 0.5}}, \"type\": \"barpolar\"}], \"carpet\": [{\"aaxis\": {\"endlinecolor\": \"#2a3f5f\", \"gridcolor\": \"white\", \"linecolor\": \"white\", \"minorgridcolor\": \"white\", \"startlinecolor\": \"#2a3f5f\"}, \"baxis\": {\"endlinecolor\": \"#2a3f5f\", \"gridcolor\": \"white\", \"linecolor\": \"white\", \"minorgridcolor\": \"white\", \"startlinecolor\": \"#2a3f5f\"}, \"type\": \"carpet\"}], \"choropleth\": [{\"colorbar\": {\"outlinewidth\": 0, \"ticks\": \"\"}, \"type\": \"choropleth\"}], \"contour\": [{\"colorbar\": {\"outlinewidth\": 0, \"ticks\": \"\"}, \"colorscale\": [[0.0, \"#0d0887\"], [0.1111111111111111, \"#46039f\"], [0.2222222222222222, \"#7201a8\"], [0.3333333333333333, \"#9c179e\"], [0.4444444444444444, \"#bd3786\"], [0.5555555555555556, \"#d8576b\"], [0.6666666666666666, \"#ed7953\"], [0.7777777777777778, \"#fb9f3a\"], [0.8888888888888888, \"#fdca26\"], [1.0, \"#f0f921\"]], \"type\": \"contour\"}], \"contourcarpet\": [{\"colorbar\": {\"outlinewidth\": 0, \"ticks\": \"\"}, \"type\": \"contourcarpet\"}], \"heatmap\": [{\"colorbar\": {\"outlinewidth\": 0, \"ticks\": \"\"}, \"colorscale\": [[0.0, \"#0d0887\"], [0.1111111111111111, \"#46039f\"], [0.2222222222222222, \"#7201a8\"], [0.3333333333333333, \"#9c179e\"], [0.4444444444444444, \"#bd3786\"], [0.5555555555555556, \"#d8576b\"], [0.6666666666666666, \"#ed7953\"], [0.7777777777777778, \"#fb9f3a\"], [0.8888888888888888, \"#fdca26\"], [1.0, \"#f0f921\"]], \"type\": \"heatmap\"}], \"heatmapgl\": [{\"colorbar\": {\"outlinewidth\": 0, \"ticks\": \"\"}, \"colorscale\": [[0.0, \"#0d0887\"], [0.1111111111111111, \"#46039f\"], [0.2222222222222222, \"#7201a8\"], [0.3333333333333333, \"#9c179e\"], [0.4444444444444444, \"#bd3786\"], [0.5555555555555556, \"#d8576b\"], [0.6666666666666666, \"#ed7953\"], [0.7777777777777778, \"#fb9f3a\"], [0.8888888888888888, \"#fdca26\"], [1.0, \"#f0f921\"]], \"type\": \"heatmapgl\"}], \"histogram\": [{\"marker\": {\"colorbar\": {\"outlinewidth\": 0, \"ticks\": \"\"}}, \"type\": \"histogram\"}], \"histogram2d\": [{\"colorbar\": {\"outlinewidth\": 0, \"ticks\": \"\"}, \"colorscale\": [[0.0, \"#0d0887\"], [0.1111111111111111, \"#46039f\"], [0.2222222222222222, \"#7201a8\"], [0.3333333333333333, \"#9c179e\"], [0.4444444444444444, \"#bd3786\"], [0.5555555555555556, \"#d8576b\"], [0.6666666666666666, \"#ed7953\"], [0.7777777777777778, \"#fb9f3a\"], [0.8888888888888888, \"#fdca26\"], [1.0, \"#f0f921\"]], \"type\": \"histogram2d\"}], \"histogram2dcontour\": [{\"colorbar\": {\"outlinewidth\": 0, \"ticks\": \"\"}, \"colorscale\": [[0.0, \"#0d0887\"], [0.1111111111111111, \"#46039f\"], [0.2222222222222222, \"#7201a8\"], [0.3333333333333333, \"#9c179e\"], [0.4444444444444444, \"#bd3786\"], [0.5555555555555556, \"#d8576b\"], [0.6666666666666666, \"#ed7953\"], [0.7777777777777778, \"#fb9f3a\"], [0.8888888888888888, \"#fdca26\"], [1.0, \"#f0f921\"]], \"type\": \"histogram2dcontour\"}], \"mesh3d\": [{\"colorbar\": {\"outlinewidth\": 0, \"ticks\": \"\"}, \"type\": \"mesh3d\"}], \"parcoords\": [{\"line\": {\"colorbar\": {\"outlinewidth\": 0, \"ticks\": \"\"}}, \"type\": \"parcoords\"}], \"scatter\": [{\"marker\": {\"colorbar\": {\"outlinewidth\": 0, \"ticks\": \"\"}}, \"type\": \"scatter\"}], \"scatter3d\": [{\"line\": {\"colorbar\": {\"outlinewidth\": 0, \"ticks\": \"\"}}, \"marker\": {\"colorbar\": {\"outlinewidth\": 0, \"ticks\": \"\"}}, \"type\": \"scatter3d\"}], \"scattercarpet\": [{\"marker\": {\"colorbar\": {\"outlinewidth\": 0, \"ticks\": \"\"}}, \"type\": \"scattercarpet\"}], \"scattergeo\": [{\"marker\": {\"colorbar\": {\"outlinewidth\": 0, \"ticks\": \"\"}}, \"type\": \"scattergeo\"}], \"scattergl\": [{\"marker\": {\"colorbar\": {\"outlinewidth\": 0, \"ticks\": \"\"}}, \"type\": \"scattergl\"}], \"scattermapbox\": [{\"marker\": {\"colorbar\": {\"outlinewidth\": 0, \"ticks\": \"\"}}, \"type\": \"scattermapbox\"}], \"scatterpolar\": [{\"marker\": {\"colorbar\": {\"outlinewidth\": 0, \"ticks\": \"\"}}, \"type\": \"scatterpolar\"}], \"scatterpolargl\": [{\"marker\": {\"colorbar\": {\"outlinewidth\": 0, \"ticks\": \"\"}}, \"type\": \"scatterpolargl\"}], \"scatterternary\": [{\"marker\": {\"colorbar\": {\"outlinewidth\": 0, \"ticks\": \"\"}}, \"type\": \"scatterternary\"}], \"surface\": [{\"colorbar\": {\"outlinewidth\": 0, \"ticks\": \"\"}, \"colorscale\": [[0.0, \"#0d0887\"], [0.1111111111111111, \"#46039f\"], [0.2222222222222222, \"#7201a8\"], [0.3333333333333333, \"#9c179e\"], [0.4444444444444444, \"#bd3786\"], [0.5555555555555556, \"#d8576b\"], [0.6666666666666666, \"#ed7953\"], [0.7777777777777778, \"#fb9f3a\"], [0.8888888888888888, \"#fdca26\"], [1.0, \"#f0f921\"]], \"type\": \"surface\"}], \"table\": [{\"cells\": {\"fill\": {\"color\": \"#EBF0F8\"}, \"line\": {\"color\": \"white\"}}, \"header\": {\"fill\": {\"color\": \"#C8D4E3\"}, \"line\": {\"color\": \"white\"}}, \"type\": \"table\"}]}, \"layout\": {\"annotationdefaults\": {\"arrowcolor\": \"#2a3f5f\", \"arrowhead\": 0, \"arrowwidth\": 1}, \"colorscale\": {\"diverging\": [[0, \"#8e0152\"], [0.1, \"#c51b7d\"], [0.2, \"#de77ae\"], [0.3, \"#f1b6da\"], [0.4, \"#fde0ef\"], [0.5, \"#f7f7f7\"], [0.6, \"#e6f5d0\"], [0.7, \"#b8e186\"], [0.8, \"#7fbc41\"], [0.9, \"#4d9221\"], [1, \"#276419\"]], \"sequential\": [[0.0, \"#0d0887\"], [0.1111111111111111, \"#46039f\"], [0.2222222222222222, \"#7201a8\"], [0.3333333333333333, \"#9c179e\"], [0.4444444444444444, \"#bd3786\"], [0.5555555555555556, \"#d8576b\"], [0.6666666666666666, \"#ed7953\"], [0.7777777777777778, \"#fb9f3a\"], [0.8888888888888888, \"#fdca26\"], [1.0, \"#f0f921\"]], \"sequentialminus\": [[0.0, \"#0d0887\"], [0.1111111111111111, \"#46039f\"], [0.2222222222222222, \"#7201a8\"], [0.3333333333333333, \"#9c179e\"], [0.4444444444444444, \"#bd3786\"], [0.5555555555555556, \"#d8576b\"], [0.6666666666666666, \"#ed7953\"], [0.7777777777777778, \"#fb9f3a\"], [0.8888888888888888, \"#fdca26\"], [1.0, \"#f0f921\"]]}, \"colorway\": [\"#636efa\", \"#EF553B\", \"#00cc96\", \"#ab63fa\", \"#FFA15A\", \"#19d3f3\", \"#FF6692\", \"#B6E880\", \"#FF97FF\", \"#FECB52\"], \"font\": {\"color\": \"#2a3f5f\"}, \"geo\": {\"bgcolor\": \"white\", \"lakecolor\": \"white\", \"landcolor\": \"#E5ECF6\", \"showlakes\": true, \"showland\": true, \"subunitcolor\": \"white\"}, \"hoverlabel\": {\"align\": \"left\"}, \"hovermode\": \"closest\", \"mapbox\": {\"style\": \"light\"}, \"paper_bgcolor\": \"white\", \"plot_bgcolor\": \"#E5ECF6\", \"polar\": {\"angularaxis\": {\"gridcolor\": \"white\", \"linecolor\": \"white\", \"ticks\": \"\"}, \"bgcolor\": \"#E5ECF6\", \"radialaxis\": {\"gridcolor\": \"white\", \"linecolor\": \"white\", \"ticks\": \"\"}}, \"scene\": {\"xaxis\": {\"backgroundcolor\": \"#E5ECF6\", \"gridcolor\": \"white\", \"gridwidth\": 2, \"linecolor\": \"white\", \"showbackground\": true, \"ticks\": \"\", \"zerolinecolor\": \"white\"}, \"yaxis\": {\"backgroundcolor\": \"#E5ECF6\", \"gridcolor\": \"white\", \"gridwidth\": 2, \"linecolor\": \"white\", \"showbackground\": true, \"ticks\": \"\", \"zerolinecolor\": \"white\"}, \"zaxis\": {\"backgroundcolor\": \"#E5ECF6\", \"gridcolor\": \"white\", \"gridwidth\": 2, \"linecolor\": \"white\", \"showbackground\": true, \"ticks\": \"\", \"zerolinecolor\": \"white\"}}, \"shapedefaults\": {\"line\": {\"color\": \"#2a3f5f\"}}, \"ternary\": {\"aaxis\": {\"gridcolor\": \"white\", \"linecolor\": \"white\", \"ticks\": \"\"}, \"baxis\": {\"gridcolor\": \"white\", \"linecolor\": \"white\", \"ticks\": \"\"}, \"bgcolor\": \"#E5ECF6\", \"caxis\": {\"gridcolor\": \"white\", \"linecolor\": \"white\", \"ticks\": \"\"}}, \"title\": {\"x\": 0.05}, \"xaxis\": {\"automargin\": true, \"gridcolor\": \"white\", \"linecolor\": \"white\", \"ticks\": \"\", \"zerolinecolor\": \"white\", \"zerolinewidth\": 2}, \"yaxis\": {\"automargin\": true, \"gridcolor\": \"white\", \"linecolor\": \"white\", \"ticks\": \"\", \"zerolinecolor\": \"white\", \"zerolinewidth\": 2}}}, \"title\": {\"text\": \"Types of health service in different Wards of Godawari\"}},\n",
       "                        {\"responsive\": true}\n",
       "                    ).then(function(){\n",
       "                            \n",
       "var gd = document.getElementById('9d6dc7e5-93f7-4ccc-9e45-ac42b0a55306');\n",
       "var x = new MutationObserver(function (mutations, observer) {{\n",
       "        var display = window.getComputedStyle(gd).display;\n",
       "        if (!display || display === 'none') {{\n",
       "            console.log([gd, 'removed!']);\n",
       "            Plotly.purge(gd);\n",
       "            observer.disconnect();\n",
       "        }}\n",
       "}});\n",
       "\n",
       "// Listen for the removal of the full notebook cells\n",
       "var notebookContainer = gd.closest('#notebook-container');\n",
       "if (notebookContainer) {{\n",
       "    x.observe(notebookContainer, {childList: true});\n",
       "}}\n",
       "\n",
       "// Listen for the clearing of the current output cell\n",
       "var outputEl = gd.closest('.output');\n",
       "if (outputEl) {{\n",
       "    x.observe(outputEl, {childList: true});\n",
       "}}\n",
       "\n",
       "                        })\n",
       "                };\n",
       "                });\n",
       "            </script>\n",
       "        </div>"
      ]
     },
     "metadata": {},
     "output_type": "display_data"
    }
   ],
   "source": [
    "trace = go.Sunburst(\n",
    "    labels=labels,\n",
    "    parents=parents,\n",
    "    values=values,\n",
    "    outsidetextfont = {\"size\": 20, \"color\": \"#377eb8\"},\n",
    "    marker = {\"line\": {\"width\": 2}},\n",
    ")\n",
    "\n",
    "layout = go.Layout(\n",
    "    title = \"Types of health service in different Wards of Godawari\",\n",
    "    margin = go.layout.Margin(t=0, l=0, r=0, b=0)\n",
    ")\n",
    "\n",
    "py.iplot(go.Figure([trace], layout), filename='basic_sunburst_chart')"
   ]
  },
  {
   "cell_type": "markdown",
   "metadata": {},
   "source": [
    "# Repair Requirements"
   ]
  },
  {
   "cell_type": "markdown",
   "metadata": {},
   "source": [
    "## In Bhaktapur"
   ]
  },
  {
   "cell_type": "code",
   "execution_count": 38,
   "metadata": {},
   "outputs": [],
   "source": [
    "df = pd.read_csv(\"kaushal.csv\")"
   ]
  },
  {
   "cell_type": "code",
   "execution_count": 39,
   "metadata": {},
   "outputs": [],
   "source": [
    "df = df[df[\"Name of Municipalities?\"]==\"Madhyapur thimi (Bhaktapur)\"]"
   ]
  },
  {
   "cell_type": "code",
   "execution_count": null,
   "metadata": {},
   "outputs": [],
   "source": [
    "df = df[[\"Ceiling needs repair?\",\"Walls need repair?\",\"Window needs repair?\",\"Doors need repair?\",\"\"]]\n",
    "df[\"Ward No\"] = df[\"Ward No\"].astype(int)"
   ]
  }
 ],
 "metadata": {
  "kernelspec": {
   "display_name": "Python 3",
   "language": "python",
   "name": "python3"
  },
  "language_info": {
   "codemirror_mode": {
    "name": "ipython",
    "version": 3
   },
   "file_extension": ".py",
   "mimetype": "text/x-python",
   "name": "python",
   "nbconvert_exporter": "python",
   "pygments_lexer": "ipython3",
   "version": "3.6.8"
  }
 },
 "nbformat": 4,
 "nbformat_minor": 2
}
